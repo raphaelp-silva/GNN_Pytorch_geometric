{
  "nbformat": 4,
  "nbformat_minor": 0,
  "metadata": {
    "colab": {
      "provenance": [],
      "authorship_tag": "ABX9TyNB9sGoOTostBdH65xMzGw+",
      "include_colab_link": true
    },
    "kernelspec": {
      "name": "python3",
      "display_name": "Python 3"
    },
    "language_info": {
      "name": "python"
    }
  },
  "cells": [
    {
      "cell_type": "markdown",
      "metadata": {
        "id": "view-in-github",
        "colab_type": "text"
      },
      "source": [
        "<a href=\"https://colab.research.google.com/github/raphaelp-silva/GNN_Pytorch_geometric/blob/main/Training_GNN_with_Optuna.ipynb\" target=\"_parent\"><img src=\"https://colab.research.google.com/assets/colab-badge.svg\" alt=\"Open In Colab\"/></a>"
      ]
    },
    {
      "cell_type": "code",
      "execution_count": 22,
      "metadata": {
        "colab": {
          "base_uri": "https://localhost:8080/"
        },
        "id": "mlNnyc6kwMv1",
        "outputId": "016b483c-9d15-4941-d4e3-335c023800a8"
      },
      "outputs": [
        {
          "output_type": "stream",
          "name": "stdout",
          "text": [
            "Requirement already satisfied: torch-geometric in /usr/local/lib/python3.11/dist-packages (2.6.1)\n",
            "Requirement already satisfied: aiohttp in /usr/local/lib/python3.11/dist-packages (from torch-geometric) (3.11.15)\n",
            "Requirement already satisfied: fsspec in /usr/local/lib/python3.11/dist-packages (from torch-geometric) (2025.3.2)\n",
            "Requirement already satisfied: jinja2 in /usr/local/lib/python3.11/dist-packages (from torch-geometric) (3.1.6)\n",
            "Requirement already satisfied: numpy in /usr/local/lib/python3.11/dist-packages (from torch-geometric) (2.0.2)\n",
            "Requirement already satisfied: psutil>=5.8.0 in /usr/local/lib/python3.11/dist-packages (from torch-geometric) (5.9.5)\n",
            "Requirement already satisfied: pyparsing in /usr/local/lib/python3.11/dist-packages (from torch-geometric) (3.2.3)\n",
            "Requirement already satisfied: requests in /usr/local/lib/python3.11/dist-packages (from torch-geometric) (2.32.3)\n",
            "Requirement already satisfied: tqdm in /usr/local/lib/python3.11/dist-packages (from torch-geometric) (4.67.1)\n",
            "Requirement already satisfied: aiohappyeyeballs>=2.3.0 in /usr/local/lib/python3.11/dist-packages (from aiohttp->torch-geometric) (2.6.1)\n",
            "Requirement already satisfied: aiosignal>=1.1.2 in /usr/local/lib/python3.11/dist-packages (from aiohttp->torch-geometric) (1.3.2)\n",
            "Requirement already satisfied: attrs>=17.3.0 in /usr/local/lib/python3.11/dist-packages (from aiohttp->torch-geometric) (25.3.0)\n",
            "Requirement already satisfied: frozenlist>=1.1.1 in /usr/local/lib/python3.11/dist-packages (from aiohttp->torch-geometric) (1.5.0)\n",
            "Requirement already satisfied: multidict<7.0,>=4.5 in /usr/local/lib/python3.11/dist-packages (from aiohttp->torch-geometric) (6.2.0)\n",
            "Requirement already satisfied: propcache>=0.2.0 in /usr/local/lib/python3.11/dist-packages (from aiohttp->torch-geometric) (0.3.1)\n",
            "Requirement already satisfied: yarl<2.0,>=1.17.0 in /usr/local/lib/python3.11/dist-packages (from aiohttp->torch-geometric) (1.18.3)\n",
            "Requirement already satisfied: MarkupSafe>=2.0 in /usr/local/lib/python3.11/dist-packages (from jinja2->torch-geometric) (3.0.2)\n",
            "Requirement already satisfied: charset-normalizer<4,>=2 in /usr/local/lib/python3.11/dist-packages (from requests->torch-geometric) (3.4.1)\n",
            "Requirement already satisfied: idna<4,>=2.5 in /usr/local/lib/python3.11/dist-packages (from requests->torch-geometric) (3.10)\n",
            "Requirement already satisfied: urllib3<3,>=1.21.1 in /usr/local/lib/python3.11/dist-packages (from requests->torch-geometric) (2.3.0)\n",
            "Requirement already satisfied: certifi>=2017.4.17 in /usr/local/lib/python3.11/dist-packages (from requests->torch-geometric) (2025.1.31)\n",
            "Requirement already satisfied: skorch in /usr/local/lib/python3.11/dist-packages (1.1.0)\n",
            "Requirement already satisfied: numpy>=1.13.3 in /usr/local/lib/python3.11/dist-packages (from skorch) (2.0.2)\n",
            "Requirement already satisfied: scikit-learn>=0.22.0 in /usr/local/lib/python3.11/dist-packages (from skorch) (1.6.1)\n",
            "Requirement already satisfied: scipy>=1.1.0 in /usr/local/lib/python3.11/dist-packages (from skorch) (1.14.1)\n",
            "Requirement already satisfied: tabulate>=0.7.7 in /usr/local/lib/python3.11/dist-packages (from skorch) (0.9.0)\n",
            "Requirement already satisfied: tqdm>=4.14.0 in /usr/local/lib/python3.11/dist-packages (from skorch) (4.67.1)\n",
            "Requirement already satisfied: joblib>=1.2.0 in /usr/local/lib/python3.11/dist-packages (from scikit-learn>=0.22.0->skorch) (1.4.2)\n",
            "Requirement already satisfied: threadpoolctl>=3.1.0 in /usr/local/lib/python3.11/dist-packages (from scikit-learn>=0.22.0->skorch) (3.6.0)\n",
            "Requirement already satisfied: optuna in /usr/local/lib/python3.11/dist-packages (4.2.1)\n",
            "Requirement already satisfied: alembic>=1.5.0 in /usr/local/lib/python3.11/dist-packages (from optuna) (1.15.2)\n",
            "Requirement already satisfied: colorlog in /usr/local/lib/python3.11/dist-packages (from optuna) (6.9.0)\n",
            "Requirement already satisfied: numpy in /usr/local/lib/python3.11/dist-packages (from optuna) (2.0.2)\n",
            "Requirement already satisfied: packaging>=20.0 in /usr/local/lib/python3.11/dist-packages (from optuna) (24.2)\n",
            "Requirement already satisfied: sqlalchemy>=1.4.2 in /usr/local/lib/python3.11/dist-packages (from optuna) (2.0.40)\n",
            "Requirement already satisfied: tqdm in /usr/local/lib/python3.11/dist-packages (from optuna) (4.67.1)\n",
            "Requirement already satisfied: PyYAML in /usr/local/lib/python3.11/dist-packages (from optuna) (6.0.2)\n",
            "Requirement already satisfied: Mako in /usr/lib/python3/dist-packages (from alembic>=1.5.0->optuna) (1.1.3)\n",
            "Requirement already satisfied: typing-extensions>=4.12 in /usr/local/lib/python3.11/dist-packages (from alembic>=1.5.0->optuna) (4.13.1)\n",
            "Requirement already satisfied: greenlet>=1 in /usr/local/lib/python3.11/dist-packages (from sqlalchemy>=1.4.2->optuna) (3.1.1)\n"
          ]
        }
      ],
      "source": [
        "!pip install torch-geometric\n",
        "!pip install --upgrade skorch\n",
        "!pip install optuna"
      ]
    },
    {
      "cell_type": "code",
      "source": [
        "import pandas as pd\n",
        "import numpy as np\n",
        "import torch\n",
        "from torch_geometric.data import Data\n",
        "import torch.nn.functional as F\n",
        "from torch_geometric.nn import GCNConv, BatchNorm\n",
        "import torch.nn as nn\n",
        "from skorch import NeuralNetClassifier\n",
        "from sklearn.model_selection import GridSearchCV\n",
        "from sklearn.model_selection import train_test_split\n",
        "from torch_geometric.data import DataLoader\n",
        "from sklearn.metrics import accuracy_score\n",
        "import optuna\n",
        "from torch_geometric.utils import subgraph\n",
        "import random"
      ],
      "metadata": {
        "id": "ZwrNDNB_wXpP"
      },
      "execution_count": 23,
      "outputs": []
    },
    {
      "cell_type": "code",
      "source": [
        "# carregando os grafos:\n",
        "\n",
        "graph_train = torch.load('/content/graph_train.pt', weights_only=False)\n",
        "graph_test = torch.load('/content/graph_test.pt', weights_only=False)\n",
        "graph_val = torch.load('/content/graph_val.pt', weights_only=False)"
      ],
      "metadata": {
        "id": "wiLNiQ8VwYmJ"
      },
      "execution_count": 24,
      "outputs": []
    },
    {
      "cell_type": "code",
      "source": [
        "# verificando o tamanho dos 3 grafos (treinamento, teste e validação):\n",
        "\n",
        "print(graph_train.x.shape)\n",
        "print(graph_test.x.shape)\n",
        "print(graph_val.x.shape)"
      ],
      "metadata": {
        "colab": {
          "base_uri": "https://localhost:8080/"
        },
        "id": "v3cmUa1HwuXs",
        "outputId": "47abe8cc-8ff1-474e-8602-a8d3f6980531"
      },
      "execution_count": 25,
      "outputs": [
        {
          "output_type": "stream",
          "name": "stdout",
          "text": [
            "torch.Size([1477, 26])\n",
            "torch.Size([317, 26])\n",
            "torch.Size([317, 26])\n"
          ]
        }
      ]
    },
    {
      "cell_type": "code",
      "source": [
        "# verificando o grafo de treinamento:\n",
        "\n",
        "print(graph_train.x.shape)\n",
        "print(graph_train.edge_index.shape)\n",
        "print(graph_train.y.shape)"
      ],
      "metadata": {
        "colab": {
          "base_uri": "https://localhost:8080/"
        },
        "id": "Un6QHrtsE74O",
        "outputId": "c9c2ed7f-da9d-4572-d298-ee20a4954abd"
      },
      "execution_count": 26,
      "outputs": [
        {
          "output_type": "stream",
          "name": "stdout",
          "text": [
            "torch.Size([1477, 26])\n",
            "torch.Size([2, 14770])\n",
            "torch.Size([1477, 7])\n"
          ]
        }
      ]
    },
    {
      "cell_type": "code",
      "source": [
        "graph_train = Data(x = graph_train.x, edge_index=graph_train.edge_index, y=graph_train.y)\n",
        "print(graph_train)\n",
        "\n",
        "graph_test = Data(x = graph_test.x, edge_index=graph_test.edge_index, y=graph_test.y)\n",
        "print(graph_test)\n",
        "\n",
        "graph_val = Data(x = graph_val.x, edge_index=graph_val.edge_index, y=graph_val.y)\n",
        "print(graph_val)"
      ],
      "metadata": {
        "colab": {
          "base_uri": "https://localhost:8080/"
        },
        "id": "qaMxV7htFUGF",
        "outputId": "25bf26e0-8731-4ace-937f-b218861dcb28"
      },
      "execution_count": 27,
      "outputs": [
        {
          "output_type": "stream",
          "name": "stdout",
          "text": [
            "Data(x=[1477, 26], edge_index=[2, 14770], y=[1477, 7])\n",
            "Data(x=[317, 26], edge_index=[2, 3170], y=[317, 7])\n",
            "Data(x=[317, 26], edge_index=[2, 3170], y=[317, 7])\n"
          ]
        }
      ]
    },
    {
      "cell_type": "code",
      "source": [
        "class GNN(torch.nn.Module):\n",
        "    def __init__(self, activation, neurons, dropout, num_layers=4):\n",
        "        super(GNN, self).__init__()\n",
        "\n",
        "        self.activation = activation\n",
        "        self.dropout = nn.Dropout(dropout)\n",
        "        self.num_layers = num_layers\n",
        "\n",
        "        self.convs = nn.ModuleList()\n",
        "        self.bns = nn.ModuleList()\n",
        "\n",
        "        in_channels = 26\n",
        "        hidden_sizes = [neurons]\n",
        "\n",
        "        # Gerar a arquitetura com redução progressiva\n",
        "        for i in range(1, num_layers):\n",
        "            next_size = max(4, hidden_sizes[-1] // 2)\n",
        "            hidden_sizes.append(next_size)\n",
        "\n",
        "        # Criar camadas convolucionais e de batch norm\n",
        "        for i in range(num_layers):\n",
        "            out_channels = hidden_sizes[i]\n",
        "            self.convs.append(GCNConv(in_channels, out_channels))\n",
        "            self.bns.append(BatchNorm(out_channels))\n",
        "            in_channels = out_channels  # para a próxima camada\n",
        "\n",
        "        # Camadas Fully Connected (ajuste conforme o número de classes)\n",
        "        self.fc1 = nn.Linear(hidden_sizes[-1], hidden_sizes[-1] // 2)\n",
        "        self.fc2 = nn.Linear(hidden_sizes[-1] // 2, 7)  # 7 classes\n",
        "\n",
        "        # Reset de parâmetros das camadas GCN\n",
        "        for conv in self.convs:\n",
        "            conv.reset_parameters()\n",
        "\n",
        "    def forward(self, data):\n",
        "        x, edge_index = data.x, data.edge_index\n",
        "\n",
        "        for i in range(self.num_layers):\n",
        "            x = self.convs[i](x, edge_index)\n",
        "            x = self.bns[i](x)\n",
        "            x = self.activation(x)\n",
        "            x = self.dropout(x)\n",
        "\n",
        "        x = self.fc1(x)\n",
        "        x = self.activation(x)\n",
        "        x = self.fc2(x)\n",
        "\n",
        "        return F.log_softmax(x, dim=1)\n"
      ],
      "metadata": {
        "id": "xNr1s9AVUu8X"
      },
      "execution_count": 28,
      "outputs": []
    },
    {
      "cell_type": "code",
      "source": [
        "# setando o seed:\n",
        "\n",
        "def set_seed(seed=42):\n",
        "    random.seed(seed)\n",
        "    np.random.seed(seed)\n",
        "    torch.manual_seed(seed)\n",
        "    torch.cuda.manual_seed_all(seed)\n",
        "    torch.backends.cudnn.deterministic = True\n",
        "    torch.backends.cudnn.benchmark = False\n",
        "\n",
        "\n",
        "# Criando a função 'objective' para otimizar parametros com optuna:\n",
        "\n",
        "# Definindo a função objetivo do Optuna\n",
        "def objective(trial):\n",
        "    set_seed(42 + trial.number) #seed controlada por trial para variar um pouco entre as execucoes\n",
        "\n",
        "    # Hiperparâmetros sugeridos através do Optuna\n",
        "    neurons = trial.suggest_int(\"neurons\", 64, 512)  # número de neurônios nas camadas ocultas\n",
        "    dropout = trial.suggest_float(\"dropout\", 0.05, 0.5, step=0.05)  # taxa de dropout\n",
        "    lr = trial.suggest_float(\"lr\", 6e-5, 1, log=True)  # taxa de aprendizado\n",
        "    num_layers = trial.suggest_int(\"num_layers\", 2, 6)\n",
        "    # Criar o modelo com os parâmetros sugeridos\n",
        "    model = GNN(activation=torch.nn.LeakyReLU(),\n",
        "                neurons=neurons,\n",
        "                dropout=dropout,\n",
        "                num_layers=num_layers)\n",
        "\n",
        "    optimizer = torch.optim.Adam(model.parameters(), lr=lr)\n",
        "    criterion = torch.nn.CrossEntropyLoss()\n",
        "\n",
        "    # Treinamento\n",
        "    model.train()\n",
        "    for epoch in range(50):\n",
        "        optimizer.zero_grad()\n",
        "        out = model(graph_train)\n",
        "\n",
        "        target = graph_train.y\n",
        "        if target.dim() > 1:\n",
        "          target = torch.argmax(target, dim=1)\n",
        "\n",
        "        loss = criterion(out, target)\n",
        "        loss.backward()\n",
        "        optimizer.step()\n",
        "\n",
        "    # Validação\n",
        "    model.eval()\n",
        "    predictions = []\n",
        "    true_labels = []\n",
        "\n",
        "    with torch.no_grad():\n",
        "        out = model(graph_test)\n",
        "        pred = torch.argmax(out, dim=1)\n",
        "\n",
        "        true_labels = graph_test.y\n",
        "        if true_labels.dim()>1:\n",
        "          true_labels = torch.argmax(true_labels, dim=1)\n",
        "\n",
        "        predictions.append(pred)\n",
        "        true_labels = true_labels.to(torch.int64)\n",
        "        predictions = pred.to(torch.int64)\n",
        "\n",
        "\n",
        "    # Calculando a acurácia\n",
        "    accuracy = accuracy_score(true_labels.cpu().numpy(), predictions.cpu().numpy())\n",
        "\n",
        "    return accuracy  # Retorne a acurácia para o Optuna\n"
      ],
      "metadata": {
        "id": "w1yzydKaUyv4"
      },
      "execution_count": 29,
      "outputs": []
    },
    {
      "cell_type": "code",
      "source": [
        "# Criando um estudo para maximizar a métrica de desempenho (ex: acurácia)\n",
        "study = optuna.create_study(direction=\"maximize\")\n",
        "study.optimize(objective, n_trials=300)  # Defina o número de tentativas"
      ],
      "metadata": {
        "colab": {
          "base_uri": "https://localhost:8080/"
        },
        "id": "Z0bVupCPVEl0",
        "outputId": "0957acc7-6323-4cf0-c3fa-7deca311020a"
      },
      "execution_count": 30,
      "outputs": [
        {
          "output_type": "stream",
          "name": "stderr",
          "text": [
            "[I 2025-04-07 18:31:02,349] A new study created in memory with name: no-name-a433e353-bb08-4cd5-b3f6-a9729ddd4a36\n",
            "[I 2025-04-07 18:31:18,330] Trial 0 finished with value: 0.2555205047318612 and parameters: {'neurons': 458, 'dropout': 0.45, 'lr': 6.065386630945389e-05, 'num_layers': 4}. Best is trial 0 with value: 0.2555205047318612.\n",
            "[I 2025-04-07 18:31:31,597] Trial 1 finished with value: 0.29337539432176657 and parameters: {'neurons': 355, 'dropout': 0.45, 'lr': 0.00017217770355548685, 'num_layers': 5}. Best is trial 1 with value: 0.29337539432176657.\n",
            "[I 2025-04-07 18:31:45,780] Trial 2 finished with value: 0.583596214511041 and parameters: {'neurons': 489, 'dropout': 0.05, 'lr': 0.03952397341201661, 'num_layers': 4}. Best is trial 2 with value: 0.583596214511041.\n",
            "[I 2025-04-07 18:31:50,742] Trial 3 finished with value: 0.5078864353312302 and parameters: {'neurons': 274, 'dropout': 0.05, 'lr': 0.30972764394342683, 'num_layers': 4}. Best is trial 2 with value: 0.583596214511041.\n",
            "[I 2025-04-07 18:31:54,628] Trial 4 finished with value: 0.7160883280757098 and parameters: {'neurons': 254, 'dropout': 0.1, 'lr': 0.004517402179470024, 'num_layers': 2}. Best is trial 4 with value: 0.7160883280757098.\n",
            "[I 2025-04-07 18:31:56,740] Trial 5 finished with value: 0.6876971608832808 and parameters: {'neurons': 117, 'dropout': 0.3, 'lr': 0.1385140871287804, 'num_layers': 2}. Best is trial 4 with value: 0.7160883280757098.\n",
            "[I 2025-04-07 18:32:05,803] Trial 6 finished with value: 0.580441640378549 and parameters: {'neurons': 442, 'dropout': 0.3, 'lr': 0.019600770496747952, 'num_layers': 6}. Best is trial 4 with value: 0.7160883280757098.\n",
            "[I 2025-04-07 18:32:15,441] Trial 7 finished with value: 0.4227129337539432 and parameters: {'neurons': 505, 'dropout': 0.1, 'lr': 0.4406417736491295, 'num_layers': 6}. Best is trial 4 with value: 0.7160883280757098.\n",
            "[I 2025-04-07 18:32:21,446] Trial 8 finished with value: 0.5141955835962145 and parameters: {'neurons': 301, 'dropout': 0.2, 'lr': 0.37193961368019257, 'num_layers': 5}. Best is trial 4 with value: 0.7160883280757098.\n",
            "[I 2025-04-07 18:32:27,382] Trial 9 finished with value: 0.61198738170347 and parameters: {'neurons': 450, 'dropout': 0.1, 'lr': 9.344153330833655e-05, 'num_layers': 2}. Best is trial 4 with value: 0.7160883280757098.\n",
            "[I 2025-04-07 18:32:30,206] Trial 10 finished with value: 0.501577287066246 and parameters: {'neurons': 160, 'dropout': 0.2, 'lr': 0.0011275598244554921, 'num_layers': 3}. Best is trial 4 with value: 0.7160883280757098.\n",
            "[I 2025-04-07 18:32:31,543] Trial 11 finished with value: 0.7034700315457413 and parameters: {'neurons': 88, 'dropout': 0.35000000000000003, 'lr': 0.003868116974028337, 'num_layers': 2}. Best is trial 4 with value: 0.7160883280757098.\n",
            "[I 2025-04-07 18:32:32,617] Trial 12 finished with value: 0.6719242902208202 and parameters: {'neurons': 73, 'dropout': 0.35000000000000003, 'lr': 0.0029406498876912977, 'num_layers': 2}. Best is trial 4 with value: 0.7160883280757098.\n",
            "[I 2025-04-07 18:32:35,573] Trial 13 finished with value: 0.6561514195583596 and parameters: {'neurons': 207, 'dropout': 0.2, 'lr': 0.0010243075509523058, 'num_layers': 3}. Best is trial 4 with value: 0.7160883280757098.\n",
            "[I 2025-04-07 18:32:38,555] Trial 14 finished with value: 0.6971608832807571 and parameters: {'neurons': 217, 'dropout': 0.4, 'lr': 0.007553507890103928, 'num_layers': 3}. Best is trial 4 with value: 0.7160883280757098.\n",
            "[I 2025-04-07 18:32:44,607] Trial 15 finished with value: 0.722397476340694 and parameters: {'neurons': 367, 'dropout': 0.5, 'lr': 0.0005518160926694978, 'num_layers': 2}. Best is trial 15 with value: 0.722397476340694.\n",
            "[I 2025-04-07 18:32:51,250] Trial 16 finished with value: 0.6561514195583596 and parameters: {'neurons': 375, 'dropout': 0.5, 'lr': 0.00042247805308643396, 'num_layers': 3}. Best is trial 15 with value: 0.722397476340694.\n",
            "[I 2025-04-07 18:33:00,865] Trial 17 finished with value: 0.7287066246056783 and parameters: {'neurons': 371, 'dropout': 0.15000000000000002, 'lr': 0.0005551424987941062, 'num_layers': 2}. Best is trial 17 with value: 0.7287066246056783.\n",
            "[I 2025-04-07 18:33:06,308] Trial 18 finished with value: 0.6561514195583596 and parameters: {'neurons': 375, 'dropout': 0.25, 'lr': 0.0003719196106070913, 'num_layers': 3}. Best is trial 17 with value: 0.7287066246056783.\n",
            "[I 2025-04-07 18:33:11,096] Trial 19 finished with value: 0.7413249211356467 and parameters: {'neurons': 339, 'dropout': 0.15000000000000002, 'lr': 0.0010422976131574061, 'num_layers': 2}. Best is trial 19 with value: 0.7413249211356467.\n",
            "[I 2025-04-07 18:33:15,878] Trial 20 finished with value: 0.6466876971608833 and parameters: {'neurons': 325, 'dropout': 0.15000000000000002, 'lr': 0.0017544498295659844, 'num_layers': 4}. Best is trial 19 with value: 0.7413249211356467.\n",
            "[I 2025-04-07 18:33:21,101] Trial 21 finished with value: 0.7255520504731862 and parameters: {'neurons': 403, 'dropout': 0.15000000000000002, 'lr': 0.0004050366943477269, 'num_layers': 2}. Best is trial 19 with value: 0.7413249211356467.\n",
            "[I 2025-04-07 18:33:29,036] Trial 22 finished with value: 0.6561514195583596 and parameters: {'neurons': 421, 'dropout': 0.15000000000000002, 'lr': 0.0001913971712113955, 'num_layers': 2}. Best is trial 19 with value: 0.7413249211356467.\n",
            "[I 2025-04-07 18:33:37,330] Trial 23 finished with value: 0.6782334384858044 and parameters: {'neurons': 415, 'dropout': 0.15000000000000002, 'lr': 0.0007151961234759519, 'num_layers': 3}. Best is trial 19 with value: 0.7413249211356467.\n",
            "[I 2025-04-07 18:33:41,732] Trial 24 finished with value: 0.6246056782334385 and parameters: {'neurons': 327, 'dropout': 0.25, 'lr': 0.00023678424673945165, 'num_layers': 2}. Best is trial 19 with value: 0.7413249211356467.\n",
            "[I 2025-04-07 18:33:48,625] Trial 25 finished with value: 0.5425867507886435 and parameters: {'neurons': 416, 'dropout': 0.15000000000000002, 'lr': 0.0017223120256754378, 'num_layers': 3}. Best is trial 19 with value: 0.7413249211356467.\n",
            "[I 2025-04-07 18:33:52,825] Trial 26 finished with value: 0.7003154574132492 and parameters: {'neurons': 328, 'dropout': 0.2, 'lr': 0.013866271028699664, 'num_layers': 2}. Best is trial 19 with value: 0.7413249211356467.\n",
            "[I 2025-04-07 18:33:59,689] Trial 27 finished with value: 0.22712933753943218 and parameters: {'neurons': 401, 'dropout': 0.1, 'lr': 0.0001211757740371916, 'num_layers': 5}. Best is trial 19 with value: 0.7413249211356467.\n",
            "[I 2025-04-07 18:34:04,153] Trial 28 finished with value: 0.555205047318612 and parameters: {'neurons': 247, 'dropout': 0.05, 'lr': 0.00037745986504627085, 'num_layers': 3}. Best is trial 19 with value: 0.7413249211356467.\n",
            "[I 2025-04-07 18:34:13,128] Trial 29 finished with value: 0.6214511041009464 and parameters: {'neurons': 472, 'dropout': 0.25, 'lr': 0.0016883565233870438, 'num_layers': 4}. Best is trial 19 with value: 0.7413249211356467.\n",
            "[I 2025-04-07 18:34:16,999] Trial 30 finished with value: 0.7255520504731862 and parameters: {'neurons': 305, 'dropout': 0.15000000000000002, 'lr': 0.0007696683459721862, 'num_layers': 2}. Best is trial 19 with value: 0.7413249211356467.\n",
            "[I 2025-04-07 18:34:20,570] Trial 31 finished with value: 0.5520504731861199 and parameters: {'neurons': 304, 'dropout': 0.15000000000000002, 'lr': 7.43219152922007e-05, 'num_layers': 2}. Best is trial 19 with value: 0.7413249211356467.\n",
            "[I 2025-04-07 18:34:24,472] Trial 32 finished with value: 0.7287066246056783 and parameters: {'neurons': 347, 'dropout': 0.2, 'lr': 0.0007842818164277418, 'num_layers': 2}. Best is trial 19 with value: 0.7413249211356467.\n",
            "[I 2025-04-07 18:34:30,021] Trial 33 finished with value: 0.6435331230283912 and parameters: {'neurons': 390, 'dropout': 0.2, 'lr': 0.0002295008456352292, 'num_layers': 2}. Best is trial 19 with value: 0.7413249211356467.\n",
            "[I 2025-04-07 18:34:34,265] Trial 34 finished with value: 0.6813880126182965 and parameters: {'neurons': 342, 'dropout': 0.25, 'lr': 0.002203030686326446, 'num_layers': 2}. Best is trial 19 with value: 0.7413249211356467.\n",
            "[I 2025-04-07 18:34:39,696] Trial 35 finished with value: 0.6151419558359621 and parameters: {'neurons': 357, 'dropout': 0.1, 'lr': 0.005190477445847767, 'num_layers': 3}. Best is trial 19 with value: 0.7413249211356467.\n",
            "[I 2025-04-07 18:34:43,348] Trial 36 finished with value: 0.6246056782334385 and parameters: {'neurons': 266, 'dropout': 0.05, 'lr': 0.8840011995269051, 'num_layers': 2}. Best is trial 19 with value: 0.7413249211356467.\n",
            "[I 2025-04-07 18:34:49,208] Trial 37 finished with value: 0.6908517350157729 and parameters: {'neurons': 434, 'dropout': 0.2, 'lr': 0.08138873198569921, 'num_layers': 2}. Best is trial 19 with value: 0.7413249211356467.\n",
            "[I 2025-04-07 18:34:58,212] Trial 38 finished with value: 0.5709779179810726 and parameters: {'neurons': 473, 'dropout': 0.3, 'lr': 0.0010506785858267283, 'num_layers': 5}. Best is trial 19 with value: 0.7413249211356467.\n",
            "[I 2025-04-07 18:35:04,024] Trial 39 finished with value: 0.5930599369085173 and parameters: {'neurons': 394, 'dropout': 0.1, 'lr': 0.00012319053586180002, 'num_layers': 3}. Best is trial 19 with value: 0.7413249211356467.\n",
            "[I 2025-04-07 18:35:07,963] Trial 40 finished with value: 0.7160883280757098 and parameters: {'neurons': 288, 'dropout': 0.05, 'lr': 0.016144358548145676, 'num_layers': 2}. Best is trial 19 with value: 0.7413249211356467.\n",
            "[I 2025-04-07 18:35:12,353] Trial 41 finished with value: 0.7318611987381703 and parameters: {'neurons': 350, 'dropout': 0.15000000000000002, 'lr': 0.0006653880477254067, 'num_layers': 2}. Best is trial 19 with value: 0.7413249211356467.\n",
            "[I 2025-04-07 18:35:16,774] Trial 42 finished with value: 0.722397476340694 and parameters: {'neurons': 351, 'dropout': 0.15000000000000002, 'lr': 0.0005312772200284115, 'num_layers': 2}. Best is trial 19 with value: 0.7413249211356467.\n",
            "[I 2025-04-07 18:35:21,848] Trial 43 finished with value: 0.6435331230283912 and parameters: {'neurons': 340, 'dropout': 0.2, 'lr': 0.00027881320680342366, 'num_layers': 2}. Best is trial 19 with value: 0.7413249211356467.\n",
            "[I 2025-04-07 18:35:26,144] Trial 44 finished with value: 0.6214511041009464 and parameters: {'neurons': 384, 'dropout': 0.1, 'lr': 0.0001481215429606956, 'num_layers': 2}. Best is trial 19 with value: 0.7413249211356467.\n",
            "[I 2025-04-07 18:35:30,307] Trial 45 finished with value: 0.7350157728706624 and parameters: {'neurons': 356, 'dropout': 0.15000000000000002, 'lr': 0.0007897498001749242, 'num_layers': 2}. Best is trial 19 with value: 0.7413249211356467.\n",
            "[I 2025-04-07 18:35:36,146] Trial 46 finished with value: 0.3312302839116719 and parameters: {'neurons': 312, 'dropout': 0.2, 'lr': 0.0029785738364951934, 'num_layers': 6}. Best is trial 19 with value: 0.7413249211356467.\n",
            "[I 2025-04-07 18:35:41,097] Trial 47 finished with value: 0.668769716088328 and parameters: {'neurons': 358, 'dropout': 0.1, 'lr': 0.001114669483663391, 'num_layers': 3}. Best is trial 19 with value: 0.7413249211356467.\n",
            "[I 2025-04-07 18:35:45,130] Trial 48 finished with value: 0.722397476340694 and parameters: {'neurons': 273, 'dropout': 0.25, 'lr': 0.0006999018805279319, 'num_layers': 2}. Best is trial 19 with value: 0.7413249211356467.\n",
            "[I 2025-04-07 18:35:49,746] Trial 49 finished with value: 0.6214511041009464 and parameters: {'neurons': 287, 'dropout': 0.15000000000000002, 'lr': 0.006821566468423946, 'num_layers': 4}. Best is trial 19 with value: 0.7413249211356467.\n",
            "[I 2025-04-07 18:35:52,896] Trial 50 finished with value: 0.6845425867507886 and parameters: {'neurons': 235, 'dropout': 0.2, 'lr': 0.0025912887122602666, 'num_layers': 2}. Best is trial 19 with value: 0.7413249211356467.\n",
            "[I 2025-04-07 18:35:58,541] Trial 51 finished with value: 0.6813880126182965 and parameters: {'neurons': 403, 'dropout': 0.15000000000000002, 'lr': 0.00028052592196501453, 'num_layers': 2}. Best is trial 19 with value: 0.7413249211356467.\n",
            "[I 2025-04-07 18:36:03,434] Trial 52 finished with value: 0.7255520504731862 and parameters: {'neurons': 371, 'dropout': 0.15000000000000002, 'lr': 0.0005192256548158384, 'num_layers': 2}. Best is trial 19 with value: 0.7413249211356467.\n",
            "[I 2025-04-07 18:36:09,194] Trial 53 finished with value: 0.7160883280757098 and parameters: {'neurons': 430, 'dropout': 0.1, 'lr': 0.0007887251461541465, 'num_layers': 2}. Best is trial 19 with value: 0.7413249211356467.\n",
            "[I 2025-04-07 18:36:14,782] Trial 54 finished with value: 0.6498422712933754 and parameters: {'neurons': 448, 'dropout': 0.15000000000000002, 'lr': 0.001427754086019133, 'num_layers': 2}. Best is trial 19 with value: 0.7413249211356467.\n",
            "[I 2025-04-07 18:36:20,137] Trial 55 finished with value: 0.5930599369085173 and parameters: {'neurons': 338, 'dropout': 0.2, 'lr': 0.0003070137160603073, 'num_layers': 3}. Best is trial 19 with value: 0.7413249211356467.\n",
            "[I 2025-04-07 18:36:25,984] Trial 56 finished with value: 0.7160883280757098 and parameters: {'neurons': 361, 'dropout': 0.1, 'lr': 0.0004625989466392976, 'num_layers': 2}. Best is trial 19 with value: 0.7413249211356467.\n",
            "[I 2025-04-07 18:36:29,712] Trial 57 finished with value: 0.6845425867507886 and parameters: {'neurons': 316, 'dropout': 0.2, 'lr': 0.003996885910385983, 'num_layers': 2}. Best is trial 19 with value: 0.7413249211356467.\n",
            "[I 2025-04-07 18:36:32,668] Trial 58 finished with value: 0.6624605678233438 and parameters: {'neurons': 171, 'dropout': 0.15000000000000002, 'lr': 0.0012803221701058213, 'num_layers': 3}. Best is trial 19 with value: 0.7413249211356467.\n",
            "[I 2025-04-07 18:36:39,885] Trial 59 finished with value: 0.5678233438485805 and parameters: {'neurons': 404, 'dropout': 0.15000000000000002, 'lr': 0.00015935294180686625, 'num_layers': 3}. Best is trial 19 with value: 0.7413249211356467.\n",
            "[I 2025-04-07 18:36:44,607] Trial 60 finished with value: 0.7255520504731862 and parameters: {'neurons': 377, 'dropout': 0.35000000000000003, 'lr': 0.0008261546847110111, 'num_layers': 2}. Best is trial 19 with value: 0.7413249211356467.\n",
            "[I 2025-04-07 18:36:48,814] Trial 61 finished with value: 0.7413249211356467 and parameters: {'neurons': 307, 'dropout': 0.15000000000000002, 'lr': 0.0006973446285816338, 'num_layers': 2}. Best is trial 19 with value: 0.7413249211356467.\n",
            "[I 2025-04-07 18:36:52,698] Trial 62 finished with value: 0.7066246056782335 and parameters: {'neurons': 324, 'dropout': 0.1, 'lr': 0.00037605471675906797, 'num_layers': 2}. Best is trial 19 with value: 0.7413249211356467.\n",
            "[I 2025-04-07 18:36:56,543] Trial 63 finished with value: 0.7287066246056783 and parameters: {'neurons': 346, 'dropout': 0.15000000000000002, 'lr': 0.0005510183180971204, 'num_layers': 2}. Best is trial 19 with value: 0.7413249211356467.\n",
            "[I 2025-04-07 18:37:01,224] Trial 64 finished with value: 0.7318611987381703 and parameters: {'neurons': 293, 'dropout': 0.15000000000000002, 'lr': 0.0006012938732881358, 'num_layers': 2}. Best is trial 19 with value: 0.7413249211356467.\n",
            "[I 2025-04-07 18:37:04,716] Trial 65 finished with value: 0.6813880126182965 and parameters: {'neurons': 263, 'dropout': 0.2, 'lr': 0.002154572244417109, 'num_layers': 2}. Best is trial 19 with value: 0.7413249211356467.\n",
            "[I 2025-04-07 18:37:07,978] Trial 66 finished with value: 0.722397476340694 and parameters: {'neurons': 299, 'dropout': 0.25, 'lr': 0.0010041065442455924, 'num_layers': 2}. Best is trial 19 with value: 0.7413249211356467.\n",
            "[I 2025-04-07 18:37:11,171] Trial 67 finished with value: 0.7034700315457413 and parameters: {'neurons': 288, 'dropout': 0.15000000000000002, 'lr': 0.03410248245754997, 'num_layers': 2}. Best is trial 19 with value: 0.7413249211356467.\n",
            "[I 2025-04-07 18:37:15,605] Trial 68 finished with value: 0.7287066246056783 and parameters: {'neurons': 332, 'dropout': 0.05, 'lr': 0.000703999388313156, 'num_layers': 2}. Best is trial 19 with value: 0.7413249211356467.\n",
            "[I 2025-04-07 18:37:18,830] Trial 69 finished with value: 0.6561514195583596 and parameters: {'neurons': 248, 'dropout': 0.1, 'lr': 0.00147738152692804, 'num_layers': 3}. Best is trial 19 with value: 0.7413249211356467.\n",
            "[I 2025-04-07 18:37:23,445] Trial 70 finished with value: 0.5362776025236593 and parameters: {'neurons': 317, 'dropout': 0.2, 'lr': 8.463103235172728e-05, 'num_layers': 2}. Best is trial 19 with value: 0.7413249211356467.\n",
            "[I 2025-04-07 18:37:28,332] Trial 71 finished with value: 0.7350157728706624 and parameters: {'neurons': 342, 'dropout': 0.15000000000000002, 'lr': 0.0005861360333328353, 'num_layers': 2}. Best is trial 19 with value: 0.7413249211356467.\n",
            "[I 2025-04-07 18:37:33,524] Trial 72 finished with value: 0.6340694006309149 and parameters: {'neurons': 364, 'dropout': 0.15000000000000002, 'lr': 0.0002122102298305846, 'num_layers': 2}. Best is trial 19 with value: 0.7413249211356467.\n",
            "[I 2025-04-07 18:37:38,289] Trial 73 finished with value: 0.7192429022082019 and parameters: {'neurons': 343, 'dropout': 0.45, 'lr': 0.0006213152017802354, 'num_layers': 2}. Best is trial 19 with value: 0.7413249211356467.\n",
            "[I 2025-04-07 18:37:42,221] Trial 74 finished with value: 0.7066246056782335 and parameters: {'neurons': 302, 'dropout': 0.15000000000000002, 'lr': 0.0009866171413506302, 'num_layers': 2}. Best is trial 19 with value: 0.7413249211356467.\n",
            "[I 2025-04-07 18:37:48,073] Trial 75 finished with value: 0.6845425867507886 and parameters: {'neurons': 381, 'dropout': 0.1, 'lr': 0.00031154758052612204, 'num_layers': 2}. Best is trial 19 with value: 0.7413249211356467.\n",
            "[I 2025-04-07 18:37:54,573] Trial 76 finished with value: 0.34069400630914826 and parameters: {'neurons': 350, 'dropout': 0.2, 'lr': 0.0004057468128617019, 'num_layers': 5}. Best is trial 19 with value: 0.7413249211356467.\n",
            "[I 2025-04-07 18:37:58,738] Trial 77 finished with value: 0.6466876971608833 and parameters: {'neurons': 327, 'dropout': 0.15000000000000002, 'lr': 0.0018826694165562556, 'num_layers': 2}. Best is trial 19 with value: 0.7413249211356467.\n",
            "[I 2025-04-07 18:38:02,690] Trial 78 finished with value: 0.750788643533123 and parameters: {'neurons': 312, 'dropout': 0.15000000000000002, 'lr': 0.0008917819331016375, 'num_layers': 2}. Best is trial 78 with value: 0.750788643533123.\n",
            "[I 2025-04-07 18:38:06,648] Trial 79 finished with value: 0.668769716088328 and parameters: {'neurons': 276, 'dropout': 0.1, 'lr': 0.0030197455632707732, 'num_layers': 2}. Best is trial 78 with value: 0.750788643533123.\n",
            "[I 2025-04-07 18:38:10,702] Trial 80 finished with value: 0.6813880126182965 and parameters: {'neurons': 292, 'dropout': 0.15000000000000002, 'lr': 0.0004625150809479932, 'num_layers': 3}. Best is trial 78 with value: 0.750788643533123.\n",
            "[I 2025-04-07 18:38:14,992] Trial 81 finished with value: 0.7034700315457413 and parameters: {'neurons': 307, 'dropout': 0.15000000000000002, 'lr': 0.0009272486882515423, 'num_layers': 2}. Best is trial 78 with value: 0.750788643533123.\n",
            "[I 2025-04-07 18:38:20,160] Trial 82 finished with value: 0.6876971608832808 and parameters: {'neurons': 333, 'dropout': 0.2, 'lr': 0.0012297727883434605, 'num_layers': 2}. Best is trial 78 with value: 0.750788643533123.\n",
            "[I 2025-04-07 18:38:24,600] Trial 83 finished with value: 0.7287066246056783 and parameters: {'neurons': 319, 'dropout': 0.15000000000000002, 'lr': 0.0005962308139766451, 'num_layers': 2}. Best is trial 78 with value: 0.750788643533123.\n",
            "[I 2025-04-07 18:38:31,124] Trial 84 finished with value: 0.668769716088328 and parameters: {'neurons': 355, 'dropout': 0.15000000000000002, 'lr': 0.0008222841072510623, 'num_layers': 4}. Best is trial 78 with value: 0.750788643533123.\n",
            "[I 2025-04-07 18:38:36,904] Trial 85 finished with value: 0.6529968454258676 and parameters: {'neurons': 368, 'dropout': 0.1, 'lr': 0.0014217463789213465, 'num_layers': 2}. Best is trial 78 with value: 0.750788643533123.\n",
            "[I 2025-04-07 18:38:42,847] Trial 86 finished with value: 0.694006309148265 and parameters: {'neurons': 390, 'dropout': 0.2, 'lr': 0.0003462568192290603, 'num_layers': 2}. Best is trial 78 with value: 0.750788643533123.\n",
            "[I 2025-04-07 18:38:47,735] Trial 87 finished with value: 0.13564668769716087 and parameters: {'neurons': 277, 'dropout': 0.15000000000000002, 'lr': 0.0002451234334112309, 'num_layers': 6}. Best is trial 78 with value: 0.750788643533123.\n",
            "[I 2025-04-07 18:38:52,103] Trial 88 finished with value: 0.7255520504731862 and parameters: {'neurons': 338, 'dropout': 0.1, 'lr': 0.0006266375700596741, 'num_layers': 2}. Best is trial 78 with value: 0.750788643533123.\n",
            "[I 2025-04-07 18:38:55,724] Trial 89 finished with value: 0.7129337539432177 and parameters: {'neurons': 233, 'dropout': 0.3, 'lr': 0.0017955063137061334, 'num_layers': 2}. Best is trial 78 with value: 0.750788643533123.\n",
            "[I 2025-04-07 18:39:00,772] Trial 90 finished with value: 0.7350157728706624 and parameters: {'neurons': 350, 'dropout': 0.25, 'lr': 0.011072853159445612, 'num_layers': 2}. Best is trial 78 with value: 0.750788643533123.\n",
            "[I 2025-04-07 18:39:05,324] Trial 91 finished with value: 0.7097791798107256 and parameters: {'neurons': 353, 'dropout': 0.25, 'lr': 0.01293231005804952, 'num_layers': 2}. Best is trial 78 with value: 0.750788643533123.\n",
            "[I 2025-04-07 18:39:10,012] Trial 92 finished with value: 0.722397476340694 and parameters: {'neurons': 312, 'dropout': 0.25, 'lr': 0.02584984359369355, 'num_layers': 2}. Best is trial 78 with value: 0.750788643533123.\n",
            "[I 2025-04-07 18:39:15,841] Trial 93 finished with value: 0.7160883280757098 and parameters: {'neurons': 369, 'dropout': 0.2, 'lr': 0.008957733070793361, 'num_layers': 2}. Best is trial 78 with value: 0.750788643533123.\n",
            "[I 2025-04-07 18:39:20,952] Trial 94 finished with value: 0.722397476340694 and parameters: {'neurons': 326, 'dropout': 0.15000000000000002, 'lr': 0.00872885155724819, 'num_layers': 2}. Best is trial 78 with value: 0.750788643533123.\n",
            "[I 2025-04-07 18:39:25,840] Trial 95 finished with value: 0.7287066246056783 and parameters: {'neurons': 382, 'dropout': 0.2, 'lr': 0.005624029400512639, 'num_layers': 2}. Best is trial 78 with value: 0.750788643533123.\n",
            "[I 2025-04-07 18:39:29,429] Trial 96 finished with value: 0.6593059936908517 and parameters: {'neurons': 295, 'dropout': 0.3, 'lr': 0.11750503050615865, 'num_layers': 2}. Best is trial 78 with value: 0.750788643533123.\n",
            "[I 2025-04-07 18:39:36,082] Trial 97 finished with value: 0.7381703470031545 and parameters: {'neurons': 413, 'dropout': 0.15000000000000002, 'lr': 0.00052521920205773, 'num_layers': 2}. Best is trial 78 with value: 0.750788643533123.\n",
            "[I 2025-04-07 18:39:42,471] Trial 98 finished with value: 0.7287066246056783 and parameters: {'neurons': 413, 'dropout': 0.15000000000000002, 'lr': 0.000434291548587356, 'num_layers': 2}. Best is trial 78 with value: 0.750788643533123.\n",
            "[I 2025-04-07 18:39:49,983] Trial 99 finished with value: 0.6750788643533123 and parameters: {'neurons': 391, 'dropout': 0.35000000000000003, 'lr': 0.00048440094043088953, 'num_layers': 3}. Best is trial 78 with value: 0.750788643533123.\n",
            "[I 2025-04-07 18:39:56,632] Trial 100 finished with value: 0.6277602523659306 and parameters: {'neurons': 432, 'dropout': 0.1, 'lr': 0.00017118685050559264, 'num_layers': 2}. Best is trial 78 with value: 0.750788643533123.\n",
            "[I 2025-04-07 18:40:02,250] Trial 101 finished with value: 0.6876971608832808 and parameters: {'neurons': 346, 'dropout': 0.15000000000000002, 'lr': 0.0007161849517457548, 'num_layers': 2}. Best is trial 78 with value: 0.750788643533123.\n",
            "[I 2025-04-07 18:40:09,563] Trial 102 finished with value: 0.6498422712933754 and parameters: {'neurons': 459, 'dropout': 0.15000000000000002, 'lr': 0.0011227267415938873, 'num_layers': 2}. Best is trial 78 with value: 0.750788643533123.\n",
            "[I 2025-04-07 18:40:14,847] Trial 103 finished with value: 0.7034700315457413 and parameters: {'neurons': 360, 'dropout': 0.2, 'lr': 0.0008919695232582783, 'num_layers': 2}. Best is trial 78 with value: 0.750788643533123.\n",
            "[I 2025-04-07 18:40:18,905] Trial 104 finished with value: 0.7192429022082019 and parameters: {'neurons': 333, 'dropout': 0.15000000000000002, 'lr': 0.0006119199312241518, 'num_layers': 2}. Best is trial 78 with value: 0.750788643533123.\n",
            "[I 2025-04-07 18:40:23,518] Trial 105 finished with value: 0.694006309148265 and parameters: {'neurons': 309, 'dropout': 0.2, 'lr': 0.00034182829455877507, 'num_layers': 2}. Best is trial 78 with value: 0.750788643533123.\n",
            "[I 2025-04-07 18:40:28,689] Trial 106 finished with value: 0.6845425867507886 and parameters: {'neurons': 375, 'dropout': 0.15000000000000002, 'lr': 0.00025521427018837273, 'num_layers': 2}. Best is trial 78 with value: 0.750788643533123.\n",
            "[I 2025-04-07 18:40:32,667] Trial 107 finished with value: 0.6403785488958991 and parameters: {'neurons': 320, 'dropout': 0.2, 'lr': 0.002392188277593464, 'num_layers': 2}. Best is trial 78 with value: 0.750788643533123.\n",
            "[I 2025-04-07 18:40:36,729] Trial 108 finished with value: 0.694006309148265 and parameters: {'neurons': 284, 'dropout': 0.1, 'lr': 0.011382221403813108, 'num_layers': 2}. Best is trial 78 with value: 0.750788643533123.\n",
            "[I 2025-04-07 18:40:40,181] Trial 109 finished with value: 0.694006309148265 and parameters: {'neurons': 259, 'dropout': 0.15000000000000002, 'lr': 0.000501250340642399, 'num_layers': 2}. Best is trial 78 with value: 0.750788643533123.\n",
            "[I 2025-04-07 18:40:44,583] Trial 110 finished with value: 0.6246056782334385 and parameters: {'neurons': 340, 'dropout': 0.15000000000000002, 'lr': 0.001429183220633275, 'num_layers': 2}. Best is trial 78 with value: 0.750788643533123.\n",
            "[I 2025-04-07 18:40:49,240] Trial 111 finished with value: 0.7350157728706624 and parameters: {'neurons': 351, 'dropout': 0.15000000000000002, 'lr': 0.0005357467234446676, 'num_layers': 2}. Best is trial 78 with value: 0.750788643533123.\n",
            "[I 2025-04-07 18:40:56,880] Trial 112 finished with value: 0.694006309148265 and parameters: {'neurons': 509, 'dropout': 0.15000000000000002, 'lr': 0.0008329785919710366, 'num_layers': 2}. Best is trial 78 with value: 0.750788643533123.\n",
            "[I 2025-04-07 18:41:02,242] Trial 113 finished with value: 0.7318611987381703 and parameters: {'neurons': 359, 'dropout': 0.15000000000000002, 'lr': 0.0006185496229516078, 'num_layers': 2}. Best is trial 78 with value: 0.750788643533123.\n",
            "[I 2025-04-07 18:41:06,880] Trial 114 finished with value: 0.7192429022082019 and parameters: {'neurons': 365, 'dropout': 0.15000000000000002, 'lr': 0.01879519172005321, 'num_layers': 2}. Best is trial 78 with value: 0.750788643533123.\n",
            "[I 2025-04-07 18:41:12,720] Trial 115 finished with value: 0.6971608832807571 and parameters: {'neurons': 495, 'dropout': 0.1, 'lr': 0.0006565151760663387, 'num_layers': 2}. Best is trial 78 with value: 0.750788643533123.\n",
            "[I 2025-04-07 18:41:18,513] Trial 116 finished with value: 0.7129337539432177 and parameters: {'neurons': 353, 'dropout': 0.15000000000000002, 'lr': 0.0004021088984863783, 'num_layers': 2}. Best is trial 78 with value: 0.750788643533123.\n",
            "[I 2025-04-07 18:41:23,536] Trial 117 finished with value: 0.7381703470031545 and parameters: {'neurons': 408, 'dropout': 0.4, 'lr': 0.0011755401678892059, 'num_layers': 2}. Best is trial 78 with value: 0.750788643533123.\n",
            "[I 2025-04-07 18:41:28,610] Trial 118 finished with value: 0.6971608832807571 and parameters: {'neurons': 415, 'dropout': 0.45, 'lr': 0.00114586508625772, 'num_layers': 2}. Best is trial 78 with value: 0.750788643533123.\n",
            "[I 2025-04-07 18:41:34,284] Trial 119 finished with value: 0.750788643533123 and parameters: {'neurons': 421, 'dropout': 0.4, 'lr': 0.0009915601689278134, 'num_layers': 2}. Best is trial 78 with value: 0.750788643533123.\n",
            "[I 2025-04-07 18:41:39,979] Trial 120 finished with value: 0.6593059936908517 and parameters: {'neurons': 460, 'dropout': 0.4, 'lr': 0.0016183999610704122, 'num_layers': 2}. Best is trial 78 with value: 0.750788643533123.\n",
            "[I 2025-04-07 18:41:45,768] Trial 121 finished with value: 0.7350157728706624 and parameters: {'neurons': 422, 'dropout': 0.4, 'lr': 0.0009017388631698858, 'num_layers': 2}. Best is trial 78 with value: 0.750788643533123.\n",
            "[I 2025-04-07 18:41:50,852] Trial 122 finished with value: 0.6813880126182965 and parameters: {'neurons': 424, 'dropout': 0.4, 'lr': 0.0011883928126234812, 'num_layers': 2}. Best is trial 78 with value: 0.750788643533123.\n",
            "[I 2025-04-07 18:41:57,084] Trial 123 finished with value: 0.7066246056782335 and parameters: {'neurons': 438, 'dropout': 0.4, 'lr': 0.0009118787358199137, 'num_layers': 2}. Best is trial 78 with value: 0.750788643533123.\n",
            "[I 2025-04-07 18:42:02,455] Trial 124 finished with value: 0.7381703470031545 and parameters: {'neurons': 397, 'dropout': 0.35000000000000003, 'lr': 0.0010547134572485828, 'num_layers': 2}. Best is trial 78 with value: 0.750788643533123.\n",
            "[I 2025-04-07 18:42:07,883] Trial 125 finished with value: 0.6908517350157729 and parameters: {'neurons': 400, 'dropout': 0.4, 'lr': 0.0019108149467618632, 'num_layers': 2}. Best is trial 78 with value: 0.750788643533123.\n",
            "[I 2025-04-07 18:42:13,075] Trial 126 finished with value: 0.7634069400630915 and parameters: {'neurons': 403, 'dropout': 0.35000000000000003, 'lr': 0.0010151776386525364, 'num_layers': 2}. Best is trial 126 with value: 0.7634069400630915.\n",
            "[I 2025-04-07 18:42:19,123] Trial 127 finished with value: 0.7255520504731862 and parameters: {'neurons': 447, 'dropout': 0.35000000000000003, 'lr': 0.003254761580892155, 'num_layers': 2}. Best is trial 126 with value: 0.7634069400630915.\n",
            "[I 2025-04-07 18:42:24,905] Trial 128 finished with value: 0.6719242902208202 and parameters: {'neurons': 409, 'dropout': 0.35000000000000003, 'lr': 0.0013336387519726166, 'num_layers': 2}. Best is trial 126 with value: 0.7634069400630915.\n",
            "[I 2025-04-07 18:42:30,192] Trial 129 finished with value: 0.7097791798107256 and parameters: {'neurons': 420, 'dropout': 0.4, 'lr': 0.0010279290422760647, 'num_layers': 2}. Best is trial 126 with value: 0.7634069400630915.\n",
            "[I 2025-04-07 18:42:35,757] Trial 130 finished with value: 0.7318611987381703 and parameters: {'neurons': 396, 'dropout': 0.45, 'lr': 0.0007988385593941095, 'num_layers': 2}. Best is trial 126 with value: 0.7634069400630915.\n",
            "[I 2025-04-07 18:42:40,800] Trial 131 finished with value: 0.7318611987381703 and parameters: {'neurons': 427, 'dropout': 0.4, 'lr': 0.0007111964573426021, 'num_layers': 2}. Best is trial 126 with value: 0.7634069400630915.\n",
            "[I 2025-04-07 18:42:47,311] Trial 132 finished with value: 0.7350157728706624 and parameters: {'neurons': 441, 'dropout': 0.35000000000000003, 'lr': 0.0005156796750147902, 'num_layers': 2}. Best is trial 126 with value: 0.7634069400630915.\n",
            "[I 2025-04-07 18:42:53,809] Trial 133 finished with value: 0.7444794952681388 and parameters: {'neurons': 475, 'dropout': 0.35000000000000003, 'lr': 0.0005067123567383905, 'num_layers': 2}. Best is trial 126 with value: 0.7634069400630915.\n",
            "[I 2025-04-07 18:42:59,321] Trial 134 finished with value: 0.7350157728706624 and parameters: {'neurons': 389, 'dropout': 0.35000000000000003, 'lr': 0.0009563200292072299, 'num_layers': 2}. Best is trial 126 with value: 0.7634069400630915.\n",
            "[I 2025-04-07 18:43:05,325] Trial 135 finished with value: 0.6782334384858044 and parameters: {'neurons': 399, 'dropout': 0.3, 'lr': 0.0015756527186797117, 'num_layers': 2}. Best is trial 126 with value: 0.7634069400630915.\n",
            "[I 2025-04-07 18:43:11,854] Trial 136 finished with value: 0.6529968454258676 and parameters: {'neurons': 382, 'dropout': 0.35000000000000003, 'lr': 0.0021138542285550426, 'num_layers': 2}. Best is trial 126 with value: 0.7634069400630915.\n",
            "[I 2025-04-07 18:43:17,028] Trial 137 finished with value: 0.7034700315457413 and parameters: {'neurons': 408, 'dropout': 0.45, 'lr': 0.0011800328186708225, 'num_layers': 2}. Best is trial 126 with value: 0.7634069400630915.\n",
            "[I 2025-04-07 18:43:24,057] Trial 138 finished with value: 0.7381703470031545 and parameters: {'neurons': 471, 'dropout': 0.4, 'lr': 0.0004731212024269252, 'num_layers': 2}. Best is trial 126 with value: 0.7634069400630915.\n",
            "[I 2025-04-07 18:43:30,635] Trial 139 finished with value: 0.6782334384858044 and parameters: {'neurons': 479, 'dropout': 0.4, 'lr': 0.0003108738897377024, 'num_layers': 2}. Best is trial 126 with value: 0.7634069400630915.\n",
            "[I 2025-04-07 18:43:37,784] Trial 140 finished with value: 0.7476340694006309 and parameters: {'neurons': 491, 'dropout': 0.35000000000000003, 'lr': 0.0004297474786652454, 'num_layers': 2}. Best is trial 126 with value: 0.7634069400630915.\n",
            "[I 2025-04-07 18:43:42,759] Trial 141 finished with value: 0.722397476340694 and parameters: {'neurons': 448, 'dropout': 0.35000000000000003, 'lr': 0.0004461364141159873, 'num_layers': 2}. Best is trial 126 with value: 0.7634069400630915.\n",
            "[I 2025-04-07 18:43:50,030] Trial 142 finished with value: 0.7192429022082019 and parameters: {'neurons': 494, 'dropout': 0.35000000000000003, 'lr': 0.0003734075157900742, 'num_layers': 2}. Best is trial 126 with value: 0.7634069400630915.\n",
            "[I 2025-04-07 18:43:57,260] Trial 143 finished with value: 0.7287066246056783 and parameters: {'neurons': 475, 'dropout': 0.4, 'lr': 0.0005334131030917562, 'num_layers': 2}. Best is trial 126 with value: 0.7634069400630915.\n",
            "[I 2025-04-07 18:44:03,543] Trial 144 finished with value: 0.7318611987381703 and parameters: {'neurons': 467, 'dropout': 0.3, 'lr': 0.0007277028316460739, 'num_layers': 2}. Best is trial 126 with value: 0.7634069400630915.\n",
            "[I 2025-04-07 18:44:09,932] Trial 145 finished with value: 0.6624605678233438 and parameters: {'neurons': 490, 'dropout': 0.35000000000000003, 'lr': 0.0002035533484363775, 'num_layers': 2}. Best is trial 126 with value: 0.7634069400630915.\n",
            "[I 2025-04-07 18:44:16,963] Trial 146 finished with value: 0.722397476340694 and parameters: {'neurons': 484, 'dropout': 0.35000000000000003, 'lr': 0.000280583328881803, 'num_layers': 2}. Best is trial 126 with value: 0.7634069400630915.\n",
            "[I 2025-04-07 18:44:23,207] Trial 147 finished with value: 0.7381703470031545 and parameters: {'neurons': 504, 'dropout': 0.45, 'lr': 0.0004433972302150428, 'num_layers': 2}. Best is trial 126 with value: 0.7634069400630915.\n",
            "[I 2025-04-07 18:44:32,675] Trial 148 finished with value: 0.5930599369085173 and parameters: {'neurons': 503, 'dropout': 0.5, 'lr': 0.0004095979270365178, 'num_layers': 5}. Best is trial 126 with value: 0.7634069400630915.\n",
            "[I 2025-04-07 18:44:39,589] Trial 149 finished with value: 0.7255520504731862 and parameters: {'neurons': 485, 'dropout': 0.45, 'lr': 0.0007658283553880933, 'num_layers': 2}. Best is trial 126 with value: 0.7634069400630915.\n",
            "[I 2025-04-07 18:44:47,931] Trial 150 finished with value: 0.6088328075709779 and parameters: {'neurons': 502, 'dropout': 0.45, 'lr': 0.05841783504519379, 'num_layers': 4}. Best is trial 126 with value: 0.7634069400630915.\n",
            "[I 2025-04-07 18:44:54,302] Trial 151 finished with value: 0.7318611987381703 and parameters: {'neurons': 470, 'dropout': 0.35000000000000003, 'lr': 0.0005154875750631271, 'num_layers': 2}. Best is trial 126 with value: 0.7634069400630915.\n",
            "[I 2025-04-07 18:45:01,678] Trial 152 finished with value: 0.722397476340694 and parameters: {'neurons': 511, 'dropout': 0.4, 'lr': 0.000587314794091172, 'num_layers': 2}. Best is trial 126 with value: 0.7634069400630915.\n",
            "[I 2025-04-07 18:45:08,482] Trial 153 finished with value: 0.6876971608832808 and parameters: {'neurons': 459, 'dropout': 0.5, 'lr': 0.0003205342096681355, 'num_layers': 2}. Best is trial 126 with value: 0.7634069400630915.\n",
            "[I 2025-04-07 18:45:14,483] Trial 154 finished with value: 0.7318611987381703 and parameters: {'neurons': 500, 'dropout': 0.3, 'lr': 0.0004136862827445916, 'num_layers': 2}. Best is trial 126 with value: 0.7634069400630915.\n",
            "[I 2025-04-07 18:45:19,078] Trial 155 finished with value: 0.7318611987381703 and parameters: {'neurons': 334, 'dropout': 0.45, 'lr': 0.0006650642625661922, 'num_layers': 2}. Best is trial 126 with value: 0.7634069400630915.\n",
            "[I 2025-04-07 18:45:20,281] Trial 156 finished with value: 0.5899053627760252 and parameters: {'neurons': 74, 'dropout': 0.35000000000000003, 'lr': 0.0010664723565577945, 'num_layers': 2}. Best is trial 126 with value: 0.7634069400630915.\n",
            "[I 2025-04-07 18:45:21,624] Trial 157 finished with value: 0.5110410094637224 and parameters: {'neurons': 112, 'dropout': 0.4, 'lr': 0.0004922881623476879, 'num_layers': 2}. Best is trial 126 with value: 0.7634069400630915.\n",
            "[I 2025-04-07 18:45:26,518] Trial 158 finished with value: 0.7413249211356467 and parameters: {'neurons': 376, 'dropout': 0.4, 'lr': 0.0008070098736525173, 'num_layers': 2}. Best is trial 126 with value: 0.7634069400630915.\n",
            "[I 2025-04-07 18:45:32,090] Trial 159 finished with value: 0.7003154574132492 and parameters: {'neurons': 377, 'dropout': 0.4, 'lr': 0.0008402049930827864, 'num_layers': 2}. Best is trial 126 with value: 0.7634069400630915.\n",
            "[I 2025-04-07 18:45:37,122] Trial 160 finished with value: 0.7097791798107256 and parameters: {'neurons': 387, 'dropout': 0.4, 'lr': 0.0012506632018899832, 'num_layers': 2}. Best is trial 126 with value: 0.7634069400630915.\n",
            "[I 2025-04-07 18:45:41,432] Trial 161 finished with value: 0.7255520504731862 and parameters: {'neurons': 368, 'dropout': 0.4, 'lr': 0.0005637692165684459, 'num_layers': 2}. Best is trial 126 with value: 0.7634069400630915.\n",
            "[I 2025-04-07 18:45:47,279] Trial 162 finished with value: 0.7255520504731862 and parameters: {'neurons': 408, 'dropout': 0.35000000000000003, 'lr': 0.0009898001289046208, 'num_layers': 2}. Best is trial 126 with value: 0.7634069400630915.\n",
            "[I 2025-04-07 18:45:52,487] Trial 163 finished with value: 0.7192429022082019 and parameters: {'neurons': 343, 'dropout': 0.45, 'lr': 0.0007144721373524824, 'num_layers': 2}. Best is trial 126 with value: 0.7634069400630915.\n",
            "[I 2025-04-07 18:45:59,884] Trial 164 finished with value: 0.7192429022082019 and parameters: {'neurons': 482, 'dropout': 0.4, 'lr': 0.01111786900482261, 'num_layers': 2}. Best is trial 126 with value: 0.7634069400630915.\n",
            "[I 2025-04-07 18:46:05,292] Trial 165 finished with value: 0.7003154574132492 and parameters: {'neurons': 394, 'dropout': 0.35000000000000003, 'lr': 0.00035544321923602326, 'num_layers': 2}. Best is trial 126 with value: 0.7634069400630915.\n",
            "[I 2025-04-07 18:46:09,738] Trial 166 finished with value: 0.6025236593059937 and parameters: {'neurons': 324, 'dropout': 0.3, 'lr': 0.6394374689656833, 'num_layers': 2}. Best is trial 126 with value: 0.7634069400630915.\n",
            "[I 2025-04-07 18:46:14,361] Trial 167 finished with value: 0.6971608832807571 and parameters: {'neurons': 376, 'dropout': 0.4, 'lr': 0.006746820827325856, 'num_layers': 2}. Best is trial 126 with value: 0.7634069400630915.\n",
            "[I 2025-04-07 18:46:18,998] Trial 168 finished with value: 0.7066246056782335 and parameters: {'neurons': 357, 'dropout': 0.35000000000000003, 'lr': 0.0008636836623498572, 'num_layers': 2}. Best is trial 126 with value: 0.7634069400630915.\n",
            "[I 2025-04-07 18:46:25,483] Trial 169 finished with value: 0.7318611987381703 and parameters: {'neurons': 465, 'dropout': 0.45, 'lr': 0.0006340730434385975, 'num_layers': 2}. Best is trial 126 with value: 0.7634069400630915.\n",
            "[I 2025-04-07 18:46:30,021] Trial 170 finished with value: 0.7350157728706624 and parameters: {'neurons': 351, 'dropout': 0.15000000000000002, 'lr': 0.00044970385792700323, 'num_layers': 2}. Best is trial 126 with value: 0.7634069400630915.\n",
            "[I 2025-04-07 18:46:36,506] Trial 171 finished with value: 0.7381703470031545 and parameters: {'neurons': 413, 'dropout': 0.4, 'lr': 0.000939939752607527, 'num_layers': 2}. Best is trial 126 with value: 0.7634069400630915.\n",
            "[I 2025-04-07 18:46:42,105] Trial 172 finished with value: 0.694006309148265 and parameters: {'neurons': 414, 'dropout': 0.4, 'lr': 0.0014616629311969929, 'num_layers': 2}. Best is trial 126 with value: 0.7634069400630915.\n",
            "[I 2025-04-07 18:46:48,421] Trial 173 finished with value: 0.7160883280757098 and parameters: {'neurons': 431, 'dropout': 0.4, 'lr': 0.0007842950915027977, 'num_layers': 2}. Best is trial 126 with value: 0.7634069400630915.\n",
            "[I 2025-04-07 18:46:53,552] Trial 174 finished with value: 0.7413249211356467 and parameters: {'neurons': 404, 'dropout': 0.4, 'lr': 0.001054304025319902, 'num_layers': 2}. Best is trial 126 with value: 0.7634069400630915.\n",
            "[I 2025-04-07 18:46:58,434] Trial 175 finished with value: 0.7444794952681388 and parameters: {'neurons': 403, 'dropout': 0.4, 'lr': 0.001051749428976158, 'num_layers': 2}. Best is trial 126 with value: 0.7634069400630915.\n",
            "[I 2025-04-07 18:47:03,944] Trial 176 finished with value: 0.7003154574132492 and parameters: {'neurons': 400, 'dropout': 0.4, 'lr': 0.0012168418843669056, 'num_layers': 2}. Best is trial 126 with value: 0.7634069400630915.\n",
            "[I 2025-04-07 18:47:09,330] Trial 177 finished with value: 0.7192429022082019 and parameters: {'neurons': 418, 'dropout': 0.4, 'lr': 0.0010340685756266427, 'num_layers': 2}. Best is trial 126 with value: 0.7634069400630915.\n",
            "[I 2025-04-07 18:47:15,153] Trial 178 finished with value: 0.6719242902208202 and parameters: {'neurons': 408, 'dropout': 0.4, 'lr': 0.0017254662671356868, 'num_layers': 2}. Best is trial 126 with value: 0.7634069400630915.\n",
            "[I 2025-04-07 18:47:20,271] Trial 179 finished with value: 0.6971608832807571 and parameters: {'neurons': 394, 'dropout': 0.4, 'lr': 0.0013563562807643419, 'num_layers': 2}. Best is trial 126 with value: 0.7634069400630915.\n",
            "[I 2025-04-07 18:47:28,393] Trial 180 finished with value: 0.38801261829652994 and parameters: {'neurons': 438, 'dropout': 0.4, 'lr': 0.0009069025549728797, 'num_layers': 6}. Best is trial 126 with value: 0.7634069400630915.\n",
            "[I 2025-04-07 18:47:33,893] Trial 181 finished with value: 0.7350157728706624 and parameters: {'neurons': 403, 'dropout': 0.4, 'lr': 0.00102974414519376, 'num_layers': 2}. Best is trial 126 with value: 0.7634069400630915.\n",
            "[I 2025-04-07 18:47:40,169] Trial 182 finished with value: 0.722397476340694 and parameters: {'neurons': 425, 'dropout': 0.35000000000000003, 'lr': 0.0006817806317914377, 'num_layers': 2}. Best is trial 126 with value: 0.7634069400630915.\n",
            "[I 2025-04-07 18:47:44,921] Trial 183 finished with value: 0.7476340694006309 and parameters: {'neurons': 387, 'dropout': 0.45, 'lr': 0.0008024023336509737, 'num_layers': 2}. Best is trial 126 with value: 0.7634069400630915.\n",
            "[I 2025-04-07 18:47:49,738] Trial 184 finished with value: 0.7350157728706624 and parameters: {'neurons': 385, 'dropout': 0.45, 'lr': 0.0008047949243836866, 'num_layers': 2}. Best is trial 126 with value: 0.7634069400630915.\n",
            "[I 2025-04-07 18:47:55,246] Trial 185 finished with value: 0.7287066246056783 and parameters: {'neurons': 410, 'dropout': 0.45, 'lr': 0.001157651506526993, 'num_layers': 2}. Best is trial 126 with value: 0.7634069400630915.\n",
            "[I 2025-04-07 18:48:00,572] Trial 186 finished with value: 0.7444794952681388 and parameters: {'neurons': 399, 'dropout': 0.45, 'lr': 0.0009429443073848305, 'num_layers': 2}. Best is trial 126 with value: 0.7634069400630915.\n",
            "[I 2025-04-07 18:48:05,995] Trial 187 finished with value: 0.7129337539432177 and parameters: {'neurons': 395, 'dropout': 0.45, 'lr': 0.0009138704919663121, 'num_layers': 2}. Best is trial 126 with value: 0.7634069400630915.\n",
            "[I 2025-04-07 18:48:10,755] Trial 188 finished with value: 0.7097791798107256 and parameters: {'neurons': 387, 'dropout': 0.45, 'lr': 0.001567103437286602, 'num_layers': 2}. Best is trial 126 with value: 0.7634069400630915.\n",
            "[I 2025-04-07 18:48:16,436] Trial 189 finished with value: 0.7444794952681388 and parameters: {'neurons': 418, 'dropout': 0.45, 'lr': 0.0012445819425417894, 'num_layers': 2}. Best is trial 126 with value: 0.7634069400630915.\n",
            "[I 2025-04-07 18:48:21,852] Trial 190 finished with value: 0.7129337539432177 and parameters: {'neurons': 419, 'dropout': 0.45, 'lr': 0.001302487745573857, 'num_layers': 2}. Best is trial 126 with value: 0.7634069400630915.\n",
            "[I 2025-04-07 18:48:27,063] Trial 191 finished with value: 0.7602523659305994 and parameters: {'neurons': 402, 'dropout': 0.5, 'lr': 0.0010344751616205405, 'num_layers': 2}. Best is trial 126 with value: 0.7634069400630915.\n",
            "[I 2025-04-07 18:48:33,233] Trial 192 finished with value: 0.7539432176656151 and parameters: {'neurons': 402, 'dropout': 0.5, 'lr': 0.001080922103460219, 'num_layers': 2}. Best is trial 126 with value: 0.7634069400630915.\n",
            "[I 2025-04-07 18:48:38,762] Trial 193 finished with value: 0.694006309148265 and parameters: {'neurons': 399, 'dropout': 0.5, 'lr': 0.002024246198749238, 'num_layers': 2}. Best is trial 126 with value: 0.7634069400630915.\n",
            "[I 2025-04-07 18:48:44,561] Trial 194 finished with value: 0.7255520504731862 and parameters: {'neurons': 408, 'dropout': 0.5, 'lr': 0.0011334440045420286, 'num_layers': 2}. Best is trial 126 with value: 0.7634069400630915.\n",
            "[I 2025-04-07 18:48:50,364] Trial 195 finished with value: 0.694006309148265 and parameters: {'neurons': 429, 'dropout': 0.5, 'lr': 0.0014195422971199293, 'num_layers': 2}. Best is trial 126 with value: 0.7634069400630915.\n",
            "[I 2025-04-07 18:48:56,294] Trial 196 finished with value: 0.7634069400630915 and parameters: {'neurons': 397, 'dropout': 0.5, 'lr': 0.000694049245343075, 'num_layers': 2}. Best is trial 126 with value: 0.7634069400630915.\n",
            "[I 2025-04-07 18:49:01,078] Trial 197 finished with value: 0.7318611987381703 and parameters: {'neurons': 402, 'dropout': 0.5, 'lr': 0.000725168110162483, 'num_layers': 2}. Best is trial 126 with value: 0.7634069400630915.\n",
            "[I 2025-04-07 18:49:06,432] Trial 198 finished with value: 0.722397476340694 and parameters: {'neurons': 389, 'dropout': 0.5, 'lr': 0.0010407021603219973, 'num_layers': 2}. Best is trial 126 with value: 0.7634069400630915.\n",
            "[I 2025-04-07 18:49:12,329] Trial 199 finished with value: 0.7318611987381703 and parameters: {'neurons': 420, 'dropout': 0.5, 'lr': 0.0015954222302824016, 'num_layers': 2}. Best is trial 126 with value: 0.7634069400630915.\n",
            "[I 2025-04-07 18:49:18,039] Trial 200 finished with value: 0.5993690851735016 and parameters: {'neurons': 380, 'dropout': 0.5, 'lr': 0.000812932313349612, 'num_layers': 4}. Best is trial 126 with value: 0.7634069400630915.\n",
            "[I 2025-04-07 18:49:23,676] Trial 201 finished with value: 0.722397476340694 and parameters: {'neurons': 404, 'dropout': 0.45, 'lr': 0.0006134145303513067, 'num_layers': 2}. Best is trial 126 with value: 0.7634069400630915.\n",
            "[I 2025-04-07 18:49:28,876] Trial 202 finished with value: 0.6214511041009464 and parameters: {'neurons': 397, 'dropout': 0.5, 'lr': 0.30120100699878505, 'num_layers': 2}. Best is trial 126 with value: 0.7634069400630915.\n",
            "[I 2025-04-07 18:49:35,328] Trial 203 finished with value: 0.7129337539432177 and parameters: {'neurons': 493, 'dropout': 0.45, 'lr': 0.0011667746030723564, 'num_layers': 2}. Best is trial 126 with value: 0.7634069400630915.\n",
            "[I 2025-04-07 18:49:40,516] Trial 204 finished with value: 0.7476340694006309 and parameters: {'neurons': 415, 'dropout': 0.5, 'lr': 0.000546243477221382, 'num_layers': 2}. Best is trial 126 with value: 0.7634069400630915.\n",
            "[I 2025-04-07 18:49:46,559] Trial 205 finished with value: 0.7476340694006309 and parameters: {'neurons': 414, 'dropout': 0.5, 'lr': 0.0006733791627469895, 'num_layers': 2}. Best is trial 126 with value: 0.7634069400630915.\n",
            "[I 2025-04-07 18:49:51,883] Trial 206 finished with value: 0.7413249211356467 and parameters: {'neurons': 416, 'dropout': 0.5, 'lr': 0.0007475270909877331, 'num_layers': 2}. Best is trial 126 with value: 0.7634069400630915.\n",
            "[I 2025-04-07 18:49:57,031] Trial 207 finished with value: 0.7287066246056783 and parameters: {'neurons': 416, 'dropout': 0.5, 'lr': 0.0007425609145242279, 'num_layers': 2}. Best is trial 126 with value: 0.7634069400630915.\n",
            "[I 2025-04-07 18:50:02,885] Trial 208 finished with value: 0.7413249211356467 and parameters: {'neurons': 430, 'dropout': 0.5, 'lr': 0.0005829485517932292, 'num_layers': 2}. Best is trial 126 with value: 0.7634069400630915.\n",
            "[I 2025-04-07 18:50:08,344] Trial 209 finished with value: 0.7476340694006309 and parameters: {'neurons': 433, 'dropout': 0.5, 'lr': 0.0005766139520068131, 'num_layers': 2}. Best is trial 126 with value: 0.7634069400630915.\n",
            "[I 2025-04-07 18:50:13,872] Trial 210 finished with value: 0.7129337539432177 and parameters: {'neurons': 436, 'dropout': 0.5, 'lr': 0.0005877775617781673, 'num_layers': 2}. Best is trial 126 with value: 0.7634069400630915.\n",
            "[I 2025-04-07 18:50:19,495] Trial 211 finished with value: 0.722397476340694 and parameters: {'neurons': 426, 'dropout': 0.5, 'lr': 0.0006477085583857471, 'num_layers': 2}. Best is trial 126 with value: 0.7634069400630915.\n",
            "[I 2025-04-07 18:50:25,769] Trial 212 finished with value: 0.722397476340694 and parameters: {'neurons': 449, 'dropout': 0.5, 'lr': 0.0005066120677238173, 'num_layers': 2}. Best is trial 126 with value: 0.7634069400630915.\n",
            "[I 2025-04-07 18:50:31,715] Trial 213 finished with value: 0.7255520504731862 and parameters: {'neurons': 421, 'dropout': 0.5, 'lr': 0.0007135626690537822, 'num_layers': 2}. Best is trial 126 with value: 0.7634069400630915.\n",
            "[I 2025-04-07 18:50:37,377] Trial 214 finished with value: 0.7476340694006309 and parameters: {'neurons': 432, 'dropout': 0.5, 'lr': 0.0008404371131573395, 'num_layers': 2}. Best is trial 126 with value: 0.7634069400630915.\n",
            "[I 2025-04-07 18:50:42,654] Trial 215 finished with value: 0.7413249211356467 and parameters: {'neurons': 426, 'dropout': 0.5, 'lr': 0.0008543978152251153, 'num_layers': 2}. Best is trial 126 with value: 0.7634069400630915.\n",
            "[I 2025-04-07 18:50:48,249] Trial 216 finished with value: 0.7066246056782335 and parameters: {'neurons': 443, 'dropout': 0.5, 'lr': 0.0008855116625159038, 'num_layers': 2}. Best is trial 126 with value: 0.7634069400630915.\n",
            "[I 2025-04-07 18:50:53,903] Trial 217 finished with value: 0.750788643533123 and parameters: {'neurons': 435, 'dropout': 0.5, 'lr': 0.000611896571088604, 'num_layers': 2}. Best is trial 126 with value: 0.7634069400630915.\n",
            "[I 2025-04-07 18:50:59,466] Trial 218 finished with value: 0.7444794952681388 and parameters: {'neurons': 435, 'dropout': 0.5, 'lr': 0.0009727985775094003, 'num_layers': 2}. Best is trial 126 with value: 0.7634069400630915.\n",
            "[I 2025-04-07 18:51:05,866] Trial 219 finished with value: 0.7160883280757098 and parameters: {'neurons': 438, 'dropout': 0.5, 'lr': 0.0009320995684000203, 'num_layers': 2}. Best is trial 126 with value: 0.7634069400630915.\n",
            "[I 2025-04-07 18:51:10,786] Trial 220 finished with value: 0.7381703470031545 and parameters: {'neurons': 407, 'dropout': 0.5, 'lr': 0.0009931455494523304, 'num_layers': 2}. Best is trial 126 with value: 0.7634069400630915.\n",
            "[I 2025-04-07 18:51:16,341] Trial 221 finished with value: 0.7192429022082019 and parameters: {'neurons': 417, 'dropout': 0.5, 'lr': 0.0007563023637236463, 'num_layers': 2}. Best is trial 126 with value: 0.7634069400630915.\n",
            "[I 2025-04-07 18:51:22,332] Trial 222 finished with value: 0.7350157728706624 and parameters: {'neurons': 451, 'dropout': 0.5, 'lr': 0.0006542074590202208, 'num_layers': 2}. Best is trial 126 with value: 0.7634069400630915.\n",
            "[I 2025-04-07 18:51:28,147] Trial 223 finished with value: 0.7350157728706624 and parameters: {'neurons': 430, 'dropout': 0.5, 'lr': 0.0007938951739071968, 'num_layers': 2}. Best is trial 126 with value: 0.7634069400630915.\n",
            "[I 2025-04-07 18:51:33,383] Trial 224 finished with value: 0.722397476340694 and parameters: {'neurons': 413, 'dropout': 0.5, 'lr': 0.0010162001414742465, 'num_layers': 2}. Best is trial 126 with value: 0.7634069400630915.\n",
            "[I 2025-04-07 18:51:39,525] Trial 225 finished with value: 0.7003154574132492 and parameters: {'neurons': 434, 'dropout': 0.5, 'lr': 0.0012623240216528922, 'num_layers': 2}. Best is trial 126 with value: 0.7634069400630915.\n",
            "[I 2025-04-07 18:51:45,182] Trial 226 finished with value: 0.7255520504731862 and parameters: {'neurons': 404, 'dropout': 0.5, 'lr': 0.0005844547247793477, 'num_layers': 2}. Best is trial 126 with value: 0.7634069400630915.\n",
            "[I 2025-04-07 18:51:50,557] Trial 227 finished with value: 0.7129337539432177 and parameters: {'neurons': 421, 'dropout': 0.5, 'lr': 0.0008443054908175981, 'num_layers': 2}. Best is trial 126 with value: 0.7634069400630915.\n",
            "[I 2025-04-07 18:51:56,312] Trial 228 finished with value: 0.7413249211356467 and parameters: {'neurons': 392, 'dropout': 0.5, 'lr': 0.0007005000105329501, 'num_layers': 2}. Best is trial 126 with value: 0.7634069400630915.\n",
            "[I 2025-04-07 18:52:02,819] Trial 229 finished with value: 0.7350157728706624 and parameters: {'neurons': 452, 'dropout': 0.5, 'lr': 0.0013292530671944972, 'num_layers': 2}. Best is trial 126 with value: 0.7634069400630915.\n",
            "[I 2025-04-07 18:52:08,434] Trial 230 finished with value: 0.7255520504731862 and parameters: {'neurons': 414, 'dropout': 0.5, 'lr': 0.0010310445104777287, 'num_layers': 2}. Best is trial 126 with value: 0.7634069400630915.\n",
            "[I 2025-04-07 18:52:13,586] Trial 231 finished with value: 0.7287066246056783 and parameters: {'neurons': 432, 'dropout': 0.5, 'lr': 0.000535707093998096, 'num_layers': 2}. Best is trial 126 with value: 0.7634069400630915.\n",
            "[I 2025-04-07 18:52:19,965] Trial 232 finished with value: 0.7444794952681388 and parameters: {'neurons': 439, 'dropout': 0.5, 'lr': 0.0006074113220208509, 'num_layers': 2}. Best is trial 126 with value: 0.7634069400630915.\n",
            "[I 2025-04-07 18:52:25,835] Trial 233 finished with value: 0.7129337539432177 and parameters: {'neurons': 439, 'dropout': 0.5, 'lr': 0.0007063964179040988, 'num_layers': 2}. Best is trial 126 with value: 0.7634069400630915.\n",
            "[I 2025-04-07 18:52:30,985] Trial 234 finished with value: 0.7097791798107256 and parameters: {'neurons': 401, 'dropout': 0.5, 'lr': 0.0004814985895752085, 'num_layers': 2}. Best is trial 126 with value: 0.7634069400630915.\n",
            "[I 2025-04-07 18:52:36,500] Trial 235 finished with value: 0.7350157728706624 and parameters: {'neurons': 419, 'dropout': 0.5, 'lr': 0.0008622251515475542, 'num_layers': 2}. Best is trial 126 with value: 0.7634069400630915.\n",
            "[I 2025-04-07 18:52:42,187] Trial 236 finished with value: 0.5709779179810726 and parameters: {'neurons': 443, 'dropout': 0.5, 'lr': 6.44413142539202e-05, 'num_layers': 2}. Best is trial 126 with value: 0.7634069400630915.\n",
            "[I 2025-04-07 18:52:48,246] Trial 237 finished with value: 0.7160883280757098 and parameters: {'neurons': 424, 'dropout': 0.5, 'lr': 0.0004053008305023796, 'num_layers': 2}. Best is trial 126 with value: 0.7634069400630915.\n",
            "[I 2025-04-07 18:52:54,019] Trial 238 finished with value: 0.722397476340694 and parameters: {'neurons': 407, 'dropout': 0.45, 'lr': 0.0006173507203639751, 'num_layers': 2}. Best is trial 126 with value: 0.7634069400630915.\n",
            "[I 2025-04-07 18:52:59,845] Trial 239 finished with value: 0.7287066246056783 and parameters: {'neurons': 389, 'dropout': 0.5, 'lr': 0.0009578746613136086, 'num_layers': 2}. Best is trial 126 with value: 0.7634069400630915.\n",
            "[I 2025-04-07 18:53:05,690] Trial 240 finished with value: 0.7476340694006309 and parameters: {'neurons': 455, 'dropout': 0.5, 'lr': 0.0008009446853029899, 'num_layers': 2}. Best is trial 126 with value: 0.7634069400630915.\n",
            "[I 2025-04-07 18:53:08,158] Trial 241 finished with value: 0.6151419558359621 and parameters: {'neurons': 176, 'dropout': 0.5, 'lr': 0.000762636958754849, 'num_layers': 2}. Best is trial 126 with value: 0.7634069400630915.\n",
            "[I 2025-04-07 18:53:14,774] Trial 242 finished with value: 0.722397476340694 and parameters: {'neurons': 456, 'dropout': 0.5, 'lr': 0.0011141213904257003, 'num_layers': 2}. Best is trial 126 with value: 0.7634069400630915.\n",
            "[I 2025-04-07 18:53:18,706] Trial 243 finished with value: 0.7381703470031545 and parameters: {'neurons': 300, 'dropout': 0.5, 'lr': 0.0008503709421301557, 'num_layers': 2}. Best is trial 126 with value: 0.7634069400630915.\n",
            "[I 2025-04-07 18:53:25,092] Trial 244 finished with value: 0.7287066246056783 and parameters: {'neurons': 444, 'dropout': 0.5, 'lr': 0.0006383053539506976, 'num_layers': 2}. Best is trial 126 with value: 0.7634069400630915.\n",
            "[I 2025-04-07 18:53:29,673] Trial 245 finished with value: 0.7318611987381703 and parameters: {'neurons': 432, 'dropout': 0.45, 'lr': 0.0005187516338547686, 'num_layers': 2}. Best is trial 126 with value: 0.7634069400630915.\n",
            "[I 2025-04-07 18:53:35,693] Trial 246 finished with value: 0.722397476340694 and parameters: {'neurons': 459, 'dropout': 0.5, 'lr': 0.000709470490874851, 'num_layers': 2}. Best is trial 126 with value: 0.7634069400630915.\n",
            "[I 2025-04-07 18:53:40,861] Trial 247 finished with value: 0.7318611987381703 and parameters: {'neurons': 411, 'dropout': 0.5, 'lr': 0.0011487626521460444, 'num_layers': 2}. Best is trial 126 with value: 0.7634069400630915.\n",
            "[I 2025-04-07 18:53:46,023] Trial 248 finished with value: 0.7444794952681388 and parameters: {'neurons': 396, 'dropout': 0.45, 'lr': 0.0009303603816331493, 'num_layers': 2}. Best is trial 126 with value: 0.7634069400630915.\n",
            "[I 2025-04-07 18:53:51,501] Trial 249 finished with value: 0.7192429022082019 and parameters: {'neurons': 396, 'dropout': 0.45, 'lr': 0.0013379422890381302, 'num_layers': 2}. Best is trial 126 with value: 0.7634069400630915.\n",
            "[I 2025-04-07 18:53:57,591] Trial 250 finished with value: 0.47634069400630913 and parameters: {'neurons': 382, 'dropout': 0.45, 'lr': 0.000957694740302713, 'num_layers': 5}. Best is trial 126 with value: 0.7634069400630915.\n",
            "[I 2025-04-07 18:54:03,355] Trial 251 finished with value: 0.7255520504731862 and parameters: {'neurons': 401, 'dropout': 0.45, 'lr': 0.0009341373512041766, 'num_layers': 2}. Best is trial 126 with value: 0.7634069400630915.\n",
            "[I 2025-04-07 18:54:08,831] Trial 252 finished with value: 0.7129337539432177 and parameters: {'neurons': 426, 'dropout': 0.45, 'lr': 0.0006002398697319431, 'num_layers': 2}. Best is trial 126 with value: 0.7634069400630915.\n",
            "[I 2025-04-07 18:54:14,548] Trial 253 finished with value: 0.7381703470031545 and parameters: {'neurons': 440, 'dropout': 0.45, 'lr': 0.0011454866901310107, 'num_layers': 2}. Best is trial 126 with value: 0.7634069400630915.\n",
            "[I 2025-04-07 18:54:19,051] Trial 254 finished with value: 0.7066246056782335 and parameters: {'neurons': 390, 'dropout': 0.5, 'lr': 0.00041807793993401, 'num_layers': 2}. Best is trial 126 with value: 0.7634069400630915.\n",
            "[I 2025-04-07 18:54:23,398] Trial 255 finished with value: 0.7192429022082019 and parameters: {'neurons': 311, 'dropout': 0.5, 'lr': 0.0008011707474291062, 'num_layers': 2}. Best is trial 126 with value: 0.7634069400630915.\n",
            "[I 2025-04-07 18:54:28,816] Trial 256 finished with value: 0.6971608832807571 and parameters: {'neurons': 406, 'dropout': 0.45, 'lr': 0.001621306263464433, 'num_layers': 2}. Best is trial 126 with value: 0.7634069400630915.\n",
            "[I 2025-04-07 18:54:33,597] Trial 257 finished with value: 0.6908517350157729 and parameters: {'neurons': 395, 'dropout': 0.05, 'lr': 0.0010254957812790874, 'num_layers': 2}. Best is trial 126 with value: 0.7634069400630915.\n",
            "[I 2025-04-07 18:54:38,542] Trial 258 finished with value: 0.722397476340694 and parameters: {'neurons': 376, 'dropout': 0.5, 'lr': 0.0005540350465519898, 'num_layers': 2}. Best is trial 126 with value: 0.7634069400630915.\n",
            "[I 2025-04-07 18:54:43,948] Trial 259 finished with value: 0.7160883280757098 and parameters: {'neurons': 422, 'dropout': 0.5, 'lr': 0.001290308454314982, 'num_layers': 2}. Best is trial 126 with value: 0.7634069400630915.\n",
            "[I 2025-04-07 18:54:50,123] Trial 260 finished with value: 0.7381703470031545 and parameters: {'neurons': 448, 'dropout': 0.45, 'lr': 0.0008808450563056895, 'num_layers': 2}. Best is trial 126 with value: 0.7634069400630915.\n",
            "[I 2025-04-07 18:54:55,689] Trial 261 finished with value: 0.722397476340694 and parameters: {'neurons': 411, 'dropout': 0.5, 'lr': 0.0006999458917250784, 'num_layers': 2}. Best is trial 126 with value: 0.7634069400630915.\n",
            "[I 2025-04-07 18:55:02,246] Trial 262 finished with value: 0.7413249211356467 and parameters: {'neurons': 475, 'dropout': 0.5, 'lr': 0.00047561943545963785, 'num_layers': 2}. Best is trial 126 with value: 0.7634069400630915.\n",
            "[I 2025-04-07 18:55:07,711] Trial 263 finished with value: 0.694006309148265 and parameters: {'neurons': 402, 'dropout': 0.45, 'lr': 0.0003531380654686535, 'num_layers': 2}. Best is trial 126 with value: 0.7634069400630915.\n",
            "[I 2025-04-07 18:55:12,526] Trial 264 finished with value: 0.722397476340694 and parameters: {'neurons': 384, 'dropout': 0.5, 'lr': 0.0008491458713963196, 'num_layers': 2}. Best is trial 126 with value: 0.7634069400630915.\n",
            "[I 2025-04-07 18:55:19,118] Trial 265 finished with value: 0.7192429022082019 and parameters: {'neurons': 436, 'dropout': 0.5, 'lr': 0.0006543740557344562, 'num_layers': 2}. Best is trial 126 with value: 0.7634069400630915.\n",
            "[I 2025-04-07 18:55:24,827] Trial 266 finished with value: 0.722397476340694 and parameters: {'neurons': 467, 'dropout': 0.45, 'lr': 0.0011359719664064312, 'num_layers': 2}. Best is trial 126 with value: 0.7634069400630915.\n",
            "[I 2025-04-07 18:55:30,519] Trial 267 finished with value: 0.7413249211356467 and parameters: {'neurons': 429, 'dropout': 0.35000000000000003, 'lr': 0.0009853735830025903, 'num_layers': 2}. Best is trial 126 with value: 0.7634069400630915.\n",
            "[I 2025-04-07 18:55:35,619] Trial 268 finished with value: 0.7444794952681388 and parameters: {'neurons': 417, 'dropout': 0.5, 'lr': 0.0013816038156366423, 'num_layers': 2}. Best is trial 126 with value: 0.7634069400630915.\n",
            "[I 2025-04-07 18:55:41,139] Trial 269 finished with value: 0.694006309148265 and parameters: {'neurons': 413, 'dropout': 0.5, 'lr': 0.0014516592331988406, 'num_layers': 2}. Best is trial 126 with value: 0.7634069400630915.\n",
            "[I 2025-04-07 18:55:46,759] Trial 270 finished with value: 0.7318611987381703 and parameters: {'neurons': 427, 'dropout': 0.5, 'lr': 0.0005650645023797584, 'num_layers': 2}. Best is trial 126 with value: 0.7634069400630915.\n",
            "[I 2025-04-07 18:55:52,562] Trial 271 finished with value: 0.668769716088328 and parameters: {'neurons': 452, 'dropout': 0.5, 'lr': 0.0017063174185628627, 'num_layers': 2}. Best is trial 126 with value: 0.7634069400630915.\n",
            "[I 2025-04-07 18:55:59,019] Trial 272 finished with value: 0.722397476340694 and parameters: {'neurons': 422, 'dropout': 0.5, 'lr': 0.0007664209441827802, 'num_layers': 2}. Best is trial 126 with value: 0.7634069400630915.\n",
            "[I 2025-04-07 18:56:05,200] Trial 273 finished with value: 0.722397476340694 and parameters: {'neurons': 436, 'dropout': 0.5, 'lr': 0.00043001801118773927, 'num_layers': 2}. Best is trial 126 with value: 0.7634069400630915.\n",
            "[I 2025-04-07 18:56:10,850] Trial 274 finished with value: 0.7413249211356467 and parameters: {'neurons': 394, 'dropout': 0.3, 'lr': 0.0013363989302780982, 'num_layers': 2}. Best is trial 126 with value: 0.7634069400630915.\n",
            "[I 2025-04-07 18:56:15,652] Trial 275 finished with value: 0.7381703470031545 and parameters: {'neurons': 370, 'dropout': 0.5, 'lr': 0.0006445184630803657, 'num_layers': 2}. Best is trial 126 with value: 0.7634069400630915.\n",
            "[I 2025-04-07 18:56:21,084] Trial 276 finished with value: 0.7413249211356467 and parameters: {'neurons': 416, 'dropout': 0.5, 'lr': 0.0008349235583729651, 'num_layers': 2}. Best is trial 126 with value: 0.7634069400630915.\n",
            "[I 2025-04-07 18:56:26,704] Trial 277 finished with value: 0.7318611987381703 and parameters: {'neurons': 445, 'dropout': 0.45, 'lr': 0.0004940654934353449, 'num_layers': 2}. Best is trial 126 with value: 0.7634069400630915.\n",
            "[I 2025-04-07 18:56:31,760] Trial 278 finished with value: 0.7413249211356467 and parameters: {'neurons': 400, 'dropout': 0.5, 'lr': 0.0010679908428338574, 'num_layers': 2}. Best is trial 126 with value: 0.7634069400630915.\n",
            "[I 2025-04-07 18:56:37,350] Trial 279 finished with value: 0.7066246056782335 and parameters: {'neurons': 411, 'dropout': 0.35000000000000003, 'lr': 0.0007282788658934801, 'num_layers': 2}. Best is trial 126 with value: 0.7634069400630915.\n",
            "[I 2025-04-07 18:56:43,248] Trial 280 finished with value: 0.6403785488958991 and parameters: {'neurons': 386, 'dropout': 0.5, 'lr': 0.0008731932714952904, 'num_layers': 4}. Best is trial 126 with value: 0.7634069400630915.\n",
            "[I 2025-04-07 18:56:47,475] Trial 281 finished with value: 0.7097791798107256 and parameters: {'neurons': 293, 'dropout': 0.5, 'lr': 0.000566095089521158, 'num_layers': 2}. Best is trial 126 with value: 0.7634069400630915.\n",
            "[I 2025-04-07 18:56:53,685] Trial 282 finished with value: 0.6876971608832808 and parameters: {'neurons': 461, 'dropout': 0.45, 'lr': 0.0013716731765844234, 'num_layers': 2}. Best is trial 126 with value: 0.7634069400630915.\n",
            "[I 2025-04-07 18:56:59,673] Trial 283 finished with value: 0.7350157728706624 and parameters: {'neurons': 421, 'dropout': 0.5, 'lr': 0.0006751062080147292, 'num_layers': 2}. Best is trial 126 with value: 0.7634069400630915.\n",
            "[I 2025-04-07 18:57:03,741] Trial 284 finished with value: 0.7129337539432177 and parameters: {'neurons': 320, 'dropout': 0.5, 'lr': 0.002461399846536966, 'num_layers': 2}. Best is trial 126 with value: 0.7634069400630915.\n",
            "[I 2025-04-07 18:57:14,572] Trial 285 finished with value: 0.694006309148265 and parameters: {'neurons': 484, 'dropout': 0.3, 'lr': 0.0011390869685717721, 'num_layers': 2}. Best is trial 126 with value: 0.7634069400630915.\n",
            "[I 2025-04-07 18:57:20,578] Trial 286 finished with value: 0.7255520504731862 and parameters: {'neurons': 432, 'dropout': 0.5, 'lr': 0.0008656569190610349, 'num_layers': 2}. Best is trial 126 with value: 0.7634069400630915.\n",
            "[I 2025-04-07 18:57:25,334] Trial 287 finished with value: 0.6845425867507886 and parameters: {'neurons': 306, 'dropout': 0.45, 'lr': 0.001875337196258928, 'num_layers': 2}. Best is trial 126 with value: 0.7634069400630915.\n",
            "[I 2025-04-07 18:57:29,120] Trial 288 finished with value: 0.41324921135646686 and parameters: {'neurons': 281, 'dropout': 0.35000000000000003, 'lr': 0.0001082789113572456, 'num_layers': 3}. Best is trial 126 with value: 0.7634069400630915.\n",
            "[I 2025-04-07 18:57:34,605] Trial 289 finished with value: 0.7129337539432177 and parameters: {'neurons': 440, 'dropout': 0.5, 'lr': 0.00036378841890925535, 'num_layers': 2}. Best is trial 126 with value: 0.7634069400630915.\n",
            "[I 2025-04-07 18:57:40,092] Trial 290 finished with value: 0.7287066246056783 and parameters: {'neurons': 406, 'dropout': 0.45, 'lr': 0.0005183150218871999, 'num_layers': 2}. Best is trial 126 with value: 0.7634069400630915.\n",
            "[I 2025-04-07 18:57:45,172] Trial 291 finished with value: 0.7192429022082019 and parameters: {'neurons': 393, 'dropout': 0.5, 'lr': 0.0009534320773576536, 'num_layers': 2}. Best is trial 126 with value: 0.7634069400630915.\n",
            "[I 2025-04-07 18:57:50,717] Trial 292 finished with value: 0.7318611987381703 and parameters: {'neurons': 417, 'dropout': 0.25, 'lr': 0.0007206387790967262, 'num_layers': 2}. Best is trial 126 with value: 0.7634069400630915.\n",
            "[I 2025-04-07 18:57:56,092] Trial 293 finished with value: 0.7255520504731862 and parameters: {'neurons': 428, 'dropout': 0.5, 'lr': 0.001254465224714362, 'num_layers': 2}. Best is trial 126 with value: 0.7634069400630915.\n",
            "[I 2025-04-07 18:58:00,999] Trial 294 finished with value: 0.7350157728706624 and parameters: {'neurons': 380, 'dropout': 0.45, 'lr': 0.0006055012931106296, 'num_layers': 2}. Best is trial 126 with value: 0.7634069400630915.\n",
            "[I 2025-04-07 18:58:08,451] Trial 295 finished with value: 0.2555205047318612 and parameters: {'neurons': 411, 'dropout': 0.5, 'lr': 0.0010397880855545487, 'num_layers': 6}. Best is trial 126 with value: 0.7634069400630915.\n",
            "[I 2025-04-07 18:58:14,701] Trial 296 finished with value: 0.7255520504731862 and parameters: {'neurons': 452, 'dropout': 0.5, 'lr': 0.000793127781128528, 'num_layers': 2}. Best is trial 126 with value: 0.7634069400630915.\n",
            "[I 2025-04-07 18:58:19,825] Trial 297 finished with value: 0.6845425867507886 and parameters: {'neurons': 402, 'dropout': 0.35000000000000003, 'lr': 0.0014676108332395484, 'num_layers': 2}. Best is trial 126 with value: 0.7634069400630915.\n",
            "[I 2025-04-07 18:58:23,691] Trial 298 finished with value: 0.6277602523659306 and parameters: {'neurons': 269, 'dropout': 0.5, 'lr': 0.0004298991948998127, 'num_layers': 2}. Best is trial 126 with value: 0.7634069400630915.\n",
            "[I 2025-04-07 18:58:30,363] Trial 299 finished with value: 0.7381703470031545 and parameters: {'neurons': 423, 'dropout': 0.45, 'lr': 0.0009782225695781695, 'num_layers': 2}. Best is trial 126 with value: 0.7634069400630915.\n"
          ]
        }
      ]
    },
    {
      "cell_type": "code",
      "source": [
        "print(\"Melhores hiperparâmetros encontrados:\")\n",
        "print(study.best_params)\n",
        "\n",
        "print(\"Melhor valor da métrica de avaliação:\")\n",
        "print(study.best_value)"
      ],
      "metadata": {
        "colab": {
          "base_uri": "https://localhost:8080/"
        },
        "id": "ppyEn2sZXTIs",
        "outputId": "c1068af0-2750-44a3-b082-39257fe88397"
      },
      "execution_count": 31,
      "outputs": [
        {
          "output_type": "stream",
          "name": "stdout",
          "text": [
            "Melhores hiperparâmetros encontrados:\n",
            "{'neurons': 403, 'dropout': 0.35000000000000003, 'lr': 0.0010151776386525364, 'num_layers': 2}\n",
            "Melhor valor da métrica de avaliação:\n",
            "0.7634069400630915\n"
          ]
        }
      ]
    },
    {
      "cell_type": "code",
      "source": [
        "import optuna.visualization as vis\n",
        "\n",
        "# Gráfico da convergência (mostra a evolução da métrica ao longo dos trials)\n",
        "vis.plot_optimization_history(study).show()\n",
        "\n",
        "# Importância dos hiperparâmetros\n",
        "vis.plot_param_importances(study).show()"
      ],
      "metadata": {
        "colab": {
          "base_uri": "https://localhost:8080/",
          "height": 1000
        },
        "id": "xLJ2S9WPZMpt",
        "outputId": "cdee1c19-25ec-48d7-873f-88cee1ac4c27"
      },
      "execution_count": 32,
      "outputs": [
        {
          "output_type": "display_data",
          "data": {
            "text/html": [
              "<html>\n",
              "<head><meta charset=\"utf-8\" /></head>\n",
              "<body>\n",
              "    <div>            <script src=\"https://cdnjs.cloudflare.com/ajax/libs/mathjax/2.7.5/MathJax.js?config=TeX-AMS-MML_SVG\"></script><script type=\"text/javascript\">if (window.MathJax && window.MathJax.Hub && window.MathJax.Hub.Config) {window.MathJax.Hub.Config({SVG: {font: \"STIX-Web\"}});}</script>                <script type=\"text/javascript\">window.PlotlyConfig = {MathJaxConfig: 'local'};</script>\n",
              "        <script charset=\"utf-8\" src=\"https://cdn.plot.ly/plotly-2.35.2.min.js\"></script>                <div id=\"0581bbc1-2461-4780-a3d3-55d87ff26c8f\" class=\"plotly-graph-div\" style=\"height:525px; width:100%;\"></div>            <script type=\"text/javascript\">                                    window.PLOTLYENV=window.PLOTLYENV || {};                                    if (document.getElementById(\"0581bbc1-2461-4780-a3d3-55d87ff26c8f\")) {                    Plotly.newPlot(                        \"0581bbc1-2461-4780-a3d3-55d87ff26c8f\",                        [{\"mode\":\"markers\",\"name\":\"Objective Value\",\"x\":[0,1,2,3,4,5,6,7,8,9,10,11,12,13,14,15,16,17,18,19,20,21,22,23,24,25,26,27,28,29,30,31,32,33,34,35,36,37,38,39,40,41,42,43,44,45,46,47,48,49,50,51,52,53,54,55,56,57,58,59,60,61,62,63,64,65,66,67,68,69,70,71,72,73,74,75,76,77,78,79,80,81,82,83,84,85,86,87,88,89,90,91,92,93,94,95,96,97,98,99,100,101,102,103,104,105,106,107,108,109,110,111,112,113,114,115,116,117,118,119,120,121,122,123,124,125,126,127,128,129,130,131,132,133,134,135,136,137,138,139,140,141,142,143,144,145,146,147,148,149,150,151,152,153,154,155,156,157,158,159,160,161,162,163,164,165,166,167,168,169,170,171,172,173,174,175,176,177,178,179,180,181,182,183,184,185,186,187,188,189,190,191,192,193,194,195,196,197,198,199,200,201,202,203,204,205,206,207,208,209,210,211,212,213,214,215,216,217,218,219,220,221,222,223,224,225,226,227,228,229,230,231,232,233,234,235,236,237,238,239,240,241,242,243,244,245,246,247,248,249,250,251,252,253,254,255,256,257,258,259,260,261,262,263,264,265,266,267,268,269,270,271,272,273,274,275,276,277,278,279,280,281,282,283,284,285,286,287,288,289,290,291,292,293,294,295,296,297,298,299],\"y\":[0.2555205047318612,0.29337539432176657,0.583596214511041,0.5078864353312302,0.7160883280757098,0.6876971608832808,0.580441640378549,0.4227129337539432,0.5141955835962145,0.61198738170347,0.501577287066246,0.7034700315457413,0.6719242902208202,0.6561514195583596,0.6971608832807571,0.722397476340694,0.6561514195583596,0.7287066246056783,0.6561514195583596,0.7413249211356467,0.6466876971608833,0.7255520504731862,0.6561514195583596,0.6782334384858044,0.6246056782334385,0.5425867507886435,0.7003154574132492,0.22712933753943218,0.555205047318612,0.6214511041009464,0.7255520504731862,0.5520504731861199,0.7287066246056783,0.6435331230283912,0.6813880126182965,0.6151419558359621,0.6246056782334385,0.6908517350157729,0.5709779179810726,0.5930599369085173,0.7160883280757098,0.7318611987381703,0.722397476340694,0.6435331230283912,0.6214511041009464,0.7350157728706624,0.3312302839116719,0.668769716088328,0.722397476340694,0.6214511041009464,0.6845425867507886,0.6813880126182965,0.7255520504731862,0.7160883280757098,0.6498422712933754,0.5930599369085173,0.7160883280757098,0.6845425867507886,0.6624605678233438,0.5678233438485805,0.7255520504731862,0.7413249211356467,0.7066246056782335,0.7287066246056783,0.7318611987381703,0.6813880126182965,0.722397476340694,0.7034700315457413,0.7287066246056783,0.6561514195583596,0.5362776025236593,0.7350157728706624,0.6340694006309149,0.7192429022082019,0.7066246056782335,0.6845425867507886,0.34069400630914826,0.6466876971608833,0.750788643533123,0.668769716088328,0.6813880126182965,0.7034700315457413,0.6876971608832808,0.7287066246056783,0.668769716088328,0.6529968454258676,0.694006309148265,0.13564668769716087,0.7255520504731862,0.7129337539432177,0.7350157728706624,0.7097791798107256,0.722397476340694,0.7160883280757098,0.722397476340694,0.7287066246056783,0.6593059936908517,0.7381703470031545,0.7287066246056783,0.6750788643533123,0.6277602523659306,0.6876971608832808,0.6498422712933754,0.7034700315457413,0.7192429022082019,0.694006309148265,0.6845425867507886,0.6403785488958991,0.694006309148265,0.694006309148265,0.6246056782334385,0.7350157728706624,0.694006309148265,0.7318611987381703,0.7192429022082019,0.6971608832807571,0.7129337539432177,0.7381703470031545,0.6971608832807571,0.750788643533123,0.6593059936908517,0.7350157728706624,0.6813880126182965,0.7066246056782335,0.7381703470031545,0.6908517350157729,0.7634069400630915,0.7255520504731862,0.6719242902208202,0.7097791798107256,0.7318611987381703,0.7318611987381703,0.7350157728706624,0.7444794952681388,0.7350157728706624,0.6782334384858044,0.6529968454258676,0.7034700315457413,0.7381703470031545,0.6782334384858044,0.7476340694006309,0.722397476340694,0.7192429022082019,0.7287066246056783,0.7318611987381703,0.6624605678233438,0.722397476340694,0.7381703470031545,0.5930599369085173,0.7255520504731862,0.6088328075709779,0.7318611987381703,0.722397476340694,0.6876971608832808,0.7318611987381703,0.7318611987381703,0.5899053627760252,0.5110410094637224,0.7413249211356467,0.7003154574132492,0.7097791798107256,0.7255520504731862,0.7255520504731862,0.7192429022082019,0.7192429022082019,0.7003154574132492,0.6025236593059937,0.6971608832807571,0.7066246056782335,0.7318611987381703,0.7350157728706624,0.7381703470031545,0.694006309148265,0.7160883280757098,0.7413249211356467,0.7444794952681388,0.7003154574132492,0.7192429022082019,0.6719242902208202,0.6971608832807571,0.38801261829652994,0.7350157728706624,0.722397476340694,0.7476340694006309,0.7350157728706624,0.7287066246056783,0.7444794952681388,0.7129337539432177,0.7097791798107256,0.7444794952681388,0.7129337539432177,0.7602523659305994,0.7539432176656151,0.694006309148265,0.7255520504731862,0.694006309148265,0.7634069400630915,0.7318611987381703,0.722397476340694,0.7318611987381703,0.5993690851735016,0.722397476340694,0.6214511041009464,0.7129337539432177,0.7476340694006309,0.7476340694006309,0.7413249211356467,0.7287066246056783,0.7413249211356467,0.7476340694006309,0.7129337539432177,0.722397476340694,0.722397476340694,0.7255520504731862,0.7476340694006309,0.7413249211356467,0.7066246056782335,0.750788643533123,0.7444794952681388,0.7160883280757098,0.7381703470031545,0.7192429022082019,0.7350157728706624,0.7350157728706624,0.722397476340694,0.7003154574132492,0.7255520504731862,0.7129337539432177,0.7413249211356467,0.7350157728706624,0.7255520504731862,0.7287066246056783,0.7444794952681388,0.7129337539432177,0.7097791798107256,0.7350157728706624,0.5709779179810726,0.7160883280757098,0.722397476340694,0.7287066246056783,0.7476340694006309,0.6151419558359621,0.722397476340694,0.7381703470031545,0.7287066246056783,0.7318611987381703,0.722397476340694,0.7318611987381703,0.7444794952681388,0.7192429022082019,0.47634069400630913,0.7255520504731862,0.7129337539432177,0.7381703470031545,0.7066246056782335,0.7192429022082019,0.6971608832807571,0.6908517350157729,0.722397476340694,0.7160883280757098,0.7381703470031545,0.722397476340694,0.7413249211356467,0.694006309148265,0.722397476340694,0.7192429022082019,0.722397476340694,0.7413249211356467,0.7444794952681388,0.694006309148265,0.7318611987381703,0.668769716088328,0.722397476340694,0.722397476340694,0.7413249211356467,0.7381703470031545,0.7413249211356467,0.7318611987381703,0.7413249211356467,0.7066246056782335,0.6403785488958991,0.7097791798107256,0.6876971608832808,0.7350157728706624,0.7129337539432177,0.694006309148265,0.7255520504731862,0.6845425867507886,0.41324921135646686,0.7129337539432177,0.7287066246056783,0.7192429022082019,0.7318611987381703,0.7255520504731862,0.7350157728706624,0.2555205047318612,0.7255520504731862,0.6845425867507886,0.6277602523659306,0.7381703470031545],\"type\":\"scatter\"},{\"mode\":\"lines\",\"name\":\"Best Value\",\"x\":[0,1,2,3,4,5,6,7,8,9,10,11,12,13,14,15,16,17,18,19,20,21,22,23,24,25,26,27,28,29,30,31,32,33,34,35,36,37,38,39,40,41,42,43,44,45,46,47,48,49,50,51,52,53,54,55,56,57,58,59,60,61,62,63,64,65,66,67,68,69,70,71,72,73,74,75,76,77,78,79,80,81,82,83,84,85,86,87,88,89,90,91,92,93,94,95,96,97,98,99,100,101,102,103,104,105,106,107,108,109,110,111,112,113,114,115,116,117,118,119,120,121,122,123,124,125,126,127,128,129,130,131,132,133,134,135,136,137,138,139,140,141,142,143,144,145,146,147,148,149,150,151,152,153,154,155,156,157,158,159,160,161,162,163,164,165,166,167,168,169,170,171,172,173,174,175,176,177,178,179,180,181,182,183,184,185,186,187,188,189,190,191,192,193,194,195,196,197,198,199,200,201,202,203,204,205,206,207,208,209,210,211,212,213,214,215,216,217,218,219,220,221,222,223,224,225,226,227,228,229,230,231,232,233,234,235,236,237,238,239,240,241,242,243,244,245,246,247,248,249,250,251,252,253,254,255,256,257,258,259,260,261,262,263,264,265,266,267,268,269,270,271,272,273,274,275,276,277,278,279,280,281,282,283,284,285,286,287,288,289,290,291,292,293,294,295,296,297,298,299],\"y\":[0.2555205047318612,0.29337539432176657,0.583596214511041,0.583596214511041,0.7160883280757098,0.7160883280757098,0.7160883280757098,0.7160883280757098,0.7160883280757098,0.7160883280757098,0.7160883280757098,0.7160883280757098,0.7160883280757098,0.7160883280757098,0.7160883280757098,0.722397476340694,0.722397476340694,0.7287066246056783,0.7287066246056783,0.7413249211356467,0.7413249211356467,0.7413249211356467,0.7413249211356467,0.7413249211356467,0.7413249211356467,0.7413249211356467,0.7413249211356467,0.7413249211356467,0.7413249211356467,0.7413249211356467,0.7413249211356467,0.7413249211356467,0.7413249211356467,0.7413249211356467,0.7413249211356467,0.7413249211356467,0.7413249211356467,0.7413249211356467,0.7413249211356467,0.7413249211356467,0.7413249211356467,0.7413249211356467,0.7413249211356467,0.7413249211356467,0.7413249211356467,0.7413249211356467,0.7413249211356467,0.7413249211356467,0.7413249211356467,0.7413249211356467,0.7413249211356467,0.7413249211356467,0.7413249211356467,0.7413249211356467,0.7413249211356467,0.7413249211356467,0.7413249211356467,0.7413249211356467,0.7413249211356467,0.7413249211356467,0.7413249211356467,0.7413249211356467,0.7413249211356467,0.7413249211356467,0.7413249211356467,0.7413249211356467,0.7413249211356467,0.7413249211356467,0.7413249211356467,0.7413249211356467,0.7413249211356467,0.7413249211356467,0.7413249211356467,0.7413249211356467,0.7413249211356467,0.7413249211356467,0.7413249211356467,0.7413249211356467,0.750788643533123,0.750788643533123,0.750788643533123,0.750788643533123,0.750788643533123,0.750788643533123,0.750788643533123,0.750788643533123,0.750788643533123,0.750788643533123,0.750788643533123,0.750788643533123,0.750788643533123,0.750788643533123,0.750788643533123,0.750788643533123,0.750788643533123,0.750788643533123,0.750788643533123,0.750788643533123,0.750788643533123,0.750788643533123,0.750788643533123,0.750788643533123,0.750788643533123,0.750788643533123,0.750788643533123,0.750788643533123,0.750788643533123,0.750788643533123,0.750788643533123,0.750788643533123,0.750788643533123,0.750788643533123,0.750788643533123,0.750788643533123,0.750788643533123,0.750788643533123,0.750788643533123,0.750788643533123,0.750788643533123,0.750788643533123,0.750788643533123,0.750788643533123,0.750788643533123,0.750788643533123,0.750788643533123,0.750788643533123,0.7634069400630915,0.7634069400630915,0.7634069400630915,0.7634069400630915,0.7634069400630915,0.7634069400630915,0.7634069400630915,0.7634069400630915,0.7634069400630915,0.7634069400630915,0.7634069400630915,0.7634069400630915,0.7634069400630915,0.7634069400630915,0.7634069400630915,0.7634069400630915,0.7634069400630915,0.7634069400630915,0.7634069400630915,0.7634069400630915,0.7634069400630915,0.7634069400630915,0.7634069400630915,0.7634069400630915,0.7634069400630915,0.7634069400630915,0.7634069400630915,0.7634069400630915,0.7634069400630915,0.7634069400630915,0.7634069400630915,0.7634069400630915,0.7634069400630915,0.7634069400630915,0.7634069400630915,0.7634069400630915,0.7634069400630915,0.7634069400630915,0.7634069400630915,0.7634069400630915,0.7634069400630915,0.7634069400630915,0.7634069400630915,0.7634069400630915,0.7634069400630915,0.7634069400630915,0.7634069400630915,0.7634069400630915,0.7634069400630915,0.7634069400630915,0.7634069400630915,0.7634069400630915,0.7634069400630915,0.7634069400630915,0.7634069400630915,0.7634069400630915,0.7634069400630915,0.7634069400630915,0.7634069400630915,0.7634069400630915,0.7634069400630915,0.7634069400630915,0.7634069400630915,0.7634069400630915,0.7634069400630915,0.7634069400630915,0.7634069400630915,0.7634069400630915,0.7634069400630915,0.7634069400630915,0.7634069400630915,0.7634069400630915,0.7634069400630915,0.7634069400630915,0.7634069400630915,0.7634069400630915,0.7634069400630915,0.7634069400630915,0.7634069400630915,0.7634069400630915,0.7634069400630915,0.7634069400630915,0.7634069400630915,0.7634069400630915,0.7634069400630915,0.7634069400630915,0.7634069400630915,0.7634069400630915,0.7634069400630915,0.7634069400630915,0.7634069400630915,0.7634069400630915,0.7634069400630915,0.7634069400630915,0.7634069400630915,0.7634069400630915,0.7634069400630915,0.7634069400630915,0.7634069400630915,0.7634069400630915,0.7634069400630915,0.7634069400630915,0.7634069400630915,0.7634069400630915,0.7634069400630915,0.7634069400630915,0.7634069400630915,0.7634069400630915,0.7634069400630915,0.7634069400630915,0.7634069400630915,0.7634069400630915,0.7634069400630915,0.7634069400630915,0.7634069400630915,0.7634069400630915,0.7634069400630915,0.7634069400630915,0.7634069400630915,0.7634069400630915,0.7634069400630915,0.7634069400630915,0.7634069400630915,0.7634069400630915,0.7634069400630915,0.7634069400630915,0.7634069400630915,0.7634069400630915,0.7634069400630915,0.7634069400630915,0.7634069400630915,0.7634069400630915,0.7634069400630915,0.7634069400630915,0.7634069400630915,0.7634069400630915,0.7634069400630915,0.7634069400630915,0.7634069400630915,0.7634069400630915,0.7634069400630915,0.7634069400630915,0.7634069400630915,0.7634069400630915,0.7634069400630915,0.7634069400630915,0.7634069400630915,0.7634069400630915,0.7634069400630915,0.7634069400630915,0.7634069400630915,0.7634069400630915,0.7634069400630915,0.7634069400630915,0.7634069400630915,0.7634069400630915,0.7634069400630915,0.7634069400630915,0.7634069400630915,0.7634069400630915,0.7634069400630915,0.7634069400630915,0.7634069400630915,0.7634069400630915,0.7634069400630915,0.7634069400630915,0.7634069400630915,0.7634069400630915,0.7634069400630915,0.7634069400630915,0.7634069400630915,0.7634069400630915,0.7634069400630915,0.7634069400630915],\"type\":\"scatter\"},{\"marker\":{\"color\":\"#cccccc\"},\"mode\":\"markers\",\"name\":\"Infeasible Trial\",\"showlegend\":false,\"x\":[],\"y\":[],\"type\":\"scatter\"}],                        {\"title\":{\"text\":\"Optimization History Plot\"},\"xaxis\":{\"title\":{\"text\":\"Trial\"}},\"yaxis\":{\"title\":{\"text\":\"Objective Value\"}},\"template\":{\"data\":{\"histogram2dcontour\":[{\"type\":\"histogram2dcontour\",\"colorbar\":{\"outlinewidth\":0,\"ticks\":\"\"},\"colorscale\":[[0.0,\"#0d0887\"],[0.1111111111111111,\"#46039f\"],[0.2222222222222222,\"#7201a8\"],[0.3333333333333333,\"#9c179e\"],[0.4444444444444444,\"#bd3786\"],[0.5555555555555556,\"#d8576b\"],[0.6666666666666666,\"#ed7953\"],[0.7777777777777778,\"#fb9f3a\"],[0.8888888888888888,\"#fdca26\"],[1.0,\"#f0f921\"]]}],\"choropleth\":[{\"type\":\"choropleth\",\"colorbar\":{\"outlinewidth\":0,\"ticks\":\"\"}}],\"histogram2d\":[{\"type\":\"histogram2d\",\"colorbar\":{\"outlinewidth\":0,\"ticks\":\"\"},\"colorscale\":[[0.0,\"#0d0887\"],[0.1111111111111111,\"#46039f\"],[0.2222222222222222,\"#7201a8\"],[0.3333333333333333,\"#9c179e\"],[0.4444444444444444,\"#bd3786\"],[0.5555555555555556,\"#d8576b\"],[0.6666666666666666,\"#ed7953\"],[0.7777777777777778,\"#fb9f3a\"],[0.8888888888888888,\"#fdca26\"],[1.0,\"#f0f921\"]]}],\"heatmap\":[{\"type\":\"heatmap\",\"colorbar\":{\"outlinewidth\":0,\"ticks\":\"\"},\"colorscale\":[[0.0,\"#0d0887\"],[0.1111111111111111,\"#46039f\"],[0.2222222222222222,\"#7201a8\"],[0.3333333333333333,\"#9c179e\"],[0.4444444444444444,\"#bd3786\"],[0.5555555555555556,\"#d8576b\"],[0.6666666666666666,\"#ed7953\"],[0.7777777777777778,\"#fb9f3a\"],[0.8888888888888888,\"#fdca26\"],[1.0,\"#f0f921\"]]}],\"heatmapgl\":[{\"type\":\"heatmapgl\",\"colorbar\":{\"outlinewidth\":0,\"ticks\":\"\"},\"colorscale\":[[0.0,\"#0d0887\"],[0.1111111111111111,\"#46039f\"],[0.2222222222222222,\"#7201a8\"],[0.3333333333333333,\"#9c179e\"],[0.4444444444444444,\"#bd3786\"],[0.5555555555555556,\"#d8576b\"],[0.6666666666666666,\"#ed7953\"],[0.7777777777777778,\"#fb9f3a\"],[0.8888888888888888,\"#fdca26\"],[1.0,\"#f0f921\"]]}],\"contourcarpet\":[{\"type\":\"contourcarpet\",\"colorbar\":{\"outlinewidth\":0,\"ticks\":\"\"}}],\"contour\":[{\"type\":\"contour\",\"colorbar\":{\"outlinewidth\":0,\"ticks\":\"\"},\"colorscale\":[[0.0,\"#0d0887\"],[0.1111111111111111,\"#46039f\"],[0.2222222222222222,\"#7201a8\"],[0.3333333333333333,\"#9c179e\"],[0.4444444444444444,\"#bd3786\"],[0.5555555555555556,\"#d8576b\"],[0.6666666666666666,\"#ed7953\"],[0.7777777777777778,\"#fb9f3a\"],[0.8888888888888888,\"#fdca26\"],[1.0,\"#f0f921\"]]}],\"surface\":[{\"type\":\"surface\",\"colorbar\":{\"outlinewidth\":0,\"ticks\":\"\"},\"colorscale\":[[0.0,\"#0d0887\"],[0.1111111111111111,\"#46039f\"],[0.2222222222222222,\"#7201a8\"],[0.3333333333333333,\"#9c179e\"],[0.4444444444444444,\"#bd3786\"],[0.5555555555555556,\"#d8576b\"],[0.6666666666666666,\"#ed7953\"],[0.7777777777777778,\"#fb9f3a\"],[0.8888888888888888,\"#fdca26\"],[1.0,\"#f0f921\"]]}],\"mesh3d\":[{\"type\":\"mesh3d\",\"colorbar\":{\"outlinewidth\":0,\"ticks\":\"\"}}],\"scatter\":[{\"fillpattern\":{\"fillmode\":\"overlay\",\"size\":10,\"solidity\":0.2},\"type\":\"scatter\"}],\"parcoords\":[{\"type\":\"parcoords\",\"line\":{\"colorbar\":{\"outlinewidth\":0,\"ticks\":\"\"}}}],\"scatterpolargl\":[{\"type\":\"scatterpolargl\",\"marker\":{\"colorbar\":{\"outlinewidth\":0,\"ticks\":\"\"}}}],\"bar\":[{\"error_x\":{\"color\":\"#2a3f5f\"},\"error_y\":{\"color\":\"#2a3f5f\"},\"marker\":{\"line\":{\"color\":\"#E5ECF6\",\"width\":0.5},\"pattern\":{\"fillmode\":\"overlay\",\"size\":10,\"solidity\":0.2}},\"type\":\"bar\"}],\"scattergeo\":[{\"type\":\"scattergeo\",\"marker\":{\"colorbar\":{\"outlinewidth\":0,\"ticks\":\"\"}}}],\"scatterpolar\":[{\"type\":\"scatterpolar\",\"marker\":{\"colorbar\":{\"outlinewidth\":0,\"ticks\":\"\"}}}],\"histogram\":[{\"marker\":{\"pattern\":{\"fillmode\":\"overlay\",\"size\":10,\"solidity\":0.2}},\"type\":\"histogram\"}],\"scattergl\":[{\"type\":\"scattergl\",\"marker\":{\"colorbar\":{\"outlinewidth\":0,\"ticks\":\"\"}}}],\"scatter3d\":[{\"type\":\"scatter3d\",\"line\":{\"colorbar\":{\"outlinewidth\":0,\"ticks\":\"\"}},\"marker\":{\"colorbar\":{\"outlinewidth\":0,\"ticks\":\"\"}}}],\"scattermapbox\":[{\"type\":\"scattermapbox\",\"marker\":{\"colorbar\":{\"outlinewidth\":0,\"ticks\":\"\"}}}],\"scatterternary\":[{\"type\":\"scatterternary\",\"marker\":{\"colorbar\":{\"outlinewidth\":0,\"ticks\":\"\"}}}],\"scattercarpet\":[{\"type\":\"scattercarpet\",\"marker\":{\"colorbar\":{\"outlinewidth\":0,\"ticks\":\"\"}}}],\"carpet\":[{\"aaxis\":{\"endlinecolor\":\"#2a3f5f\",\"gridcolor\":\"white\",\"linecolor\":\"white\",\"minorgridcolor\":\"white\",\"startlinecolor\":\"#2a3f5f\"},\"baxis\":{\"endlinecolor\":\"#2a3f5f\",\"gridcolor\":\"white\",\"linecolor\":\"white\",\"minorgridcolor\":\"white\",\"startlinecolor\":\"#2a3f5f\"},\"type\":\"carpet\"}],\"table\":[{\"cells\":{\"fill\":{\"color\":\"#EBF0F8\"},\"line\":{\"color\":\"white\"}},\"header\":{\"fill\":{\"color\":\"#C8D4E3\"},\"line\":{\"color\":\"white\"}},\"type\":\"table\"}],\"barpolar\":[{\"marker\":{\"line\":{\"color\":\"#E5ECF6\",\"width\":0.5},\"pattern\":{\"fillmode\":\"overlay\",\"size\":10,\"solidity\":0.2}},\"type\":\"barpolar\"}],\"pie\":[{\"automargin\":true,\"type\":\"pie\"}]},\"layout\":{\"autotypenumbers\":\"strict\",\"colorway\":[\"#636efa\",\"#EF553B\",\"#00cc96\",\"#ab63fa\",\"#FFA15A\",\"#19d3f3\",\"#FF6692\",\"#B6E880\",\"#FF97FF\",\"#FECB52\"],\"font\":{\"color\":\"#2a3f5f\"},\"hovermode\":\"closest\",\"hoverlabel\":{\"align\":\"left\"},\"paper_bgcolor\":\"white\",\"plot_bgcolor\":\"#E5ECF6\",\"polar\":{\"bgcolor\":\"#E5ECF6\",\"angularaxis\":{\"gridcolor\":\"white\",\"linecolor\":\"white\",\"ticks\":\"\"},\"radialaxis\":{\"gridcolor\":\"white\",\"linecolor\":\"white\",\"ticks\":\"\"}},\"ternary\":{\"bgcolor\":\"#E5ECF6\",\"aaxis\":{\"gridcolor\":\"white\",\"linecolor\":\"white\",\"ticks\":\"\"},\"baxis\":{\"gridcolor\":\"white\",\"linecolor\":\"white\",\"ticks\":\"\"},\"caxis\":{\"gridcolor\":\"white\",\"linecolor\":\"white\",\"ticks\":\"\"}},\"coloraxis\":{\"colorbar\":{\"outlinewidth\":0,\"ticks\":\"\"}},\"colorscale\":{\"sequential\":[[0.0,\"#0d0887\"],[0.1111111111111111,\"#46039f\"],[0.2222222222222222,\"#7201a8\"],[0.3333333333333333,\"#9c179e\"],[0.4444444444444444,\"#bd3786\"],[0.5555555555555556,\"#d8576b\"],[0.6666666666666666,\"#ed7953\"],[0.7777777777777778,\"#fb9f3a\"],[0.8888888888888888,\"#fdca26\"],[1.0,\"#f0f921\"]],\"sequentialminus\":[[0.0,\"#0d0887\"],[0.1111111111111111,\"#46039f\"],[0.2222222222222222,\"#7201a8\"],[0.3333333333333333,\"#9c179e\"],[0.4444444444444444,\"#bd3786\"],[0.5555555555555556,\"#d8576b\"],[0.6666666666666666,\"#ed7953\"],[0.7777777777777778,\"#fb9f3a\"],[0.8888888888888888,\"#fdca26\"],[1.0,\"#f0f921\"]],\"diverging\":[[0,\"#8e0152\"],[0.1,\"#c51b7d\"],[0.2,\"#de77ae\"],[0.3,\"#f1b6da\"],[0.4,\"#fde0ef\"],[0.5,\"#f7f7f7\"],[0.6,\"#e6f5d0\"],[0.7,\"#b8e186\"],[0.8,\"#7fbc41\"],[0.9,\"#4d9221\"],[1,\"#276419\"]]},\"xaxis\":{\"gridcolor\":\"white\",\"linecolor\":\"white\",\"ticks\":\"\",\"title\":{\"standoff\":15},\"zerolinecolor\":\"white\",\"automargin\":true,\"zerolinewidth\":2},\"yaxis\":{\"gridcolor\":\"white\",\"linecolor\":\"white\",\"ticks\":\"\",\"title\":{\"standoff\":15},\"zerolinecolor\":\"white\",\"automargin\":true,\"zerolinewidth\":2},\"scene\":{\"xaxis\":{\"backgroundcolor\":\"#E5ECF6\",\"gridcolor\":\"white\",\"linecolor\":\"white\",\"showbackground\":true,\"ticks\":\"\",\"zerolinecolor\":\"white\",\"gridwidth\":2},\"yaxis\":{\"backgroundcolor\":\"#E5ECF6\",\"gridcolor\":\"white\",\"linecolor\":\"white\",\"showbackground\":true,\"ticks\":\"\",\"zerolinecolor\":\"white\",\"gridwidth\":2},\"zaxis\":{\"backgroundcolor\":\"#E5ECF6\",\"gridcolor\":\"white\",\"linecolor\":\"white\",\"showbackground\":true,\"ticks\":\"\",\"zerolinecolor\":\"white\",\"gridwidth\":2}},\"shapedefaults\":{\"line\":{\"color\":\"#2a3f5f\"}},\"annotationdefaults\":{\"arrowcolor\":\"#2a3f5f\",\"arrowhead\":0,\"arrowwidth\":1},\"geo\":{\"bgcolor\":\"white\",\"landcolor\":\"#E5ECF6\",\"subunitcolor\":\"white\",\"showland\":true,\"showlakes\":true,\"lakecolor\":\"white\"},\"title\":{\"x\":0.05},\"mapbox\":{\"style\":\"light\"}}}},                        {\"responsive\": true}                    ).then(function(){\n",
              "                            \n",
              "var gd = document.getElementById('0581bbc1-2461-4780-a3d3-55d87ff26c8f');\n",
              "var x = new MutationObserver(function (mutations, observer) {{\n",
              "        var display = window.getComputedStyle(gd).display;\n",
              "        if (!display || display === 'none') {{\n",
              "            console.log([gd, 'removed!']);\n",
              "            Plotly.purge(gd);\n",
              "            observer.disconnect();\n",
              "        }}\n",
              "}});\n",
              "\n",
              "// Listen for the removal of the full notebook cells\n",
              "var notebookContainer = gd.closest('#notebook-container');\n",
              "if (notebookContainer) {{\n",
              "    x.observe(notebookContainer, {childList: true});\n",
              "}}\n",
              "\n",
              "// Listen for the clearing of the current output cell\n",
              "var outputEl = gd.closest('.output');\n",
              "if (outputEl) {{\n",
              "    x.observe(outputEl, {childList: true});\n",
              "}}\n",
              "\n",
              "                        })                };                            </script>        </div>\n",
              "</body>\n",
              "</html>"
            ]
          },
          "metadata": {}
        },
        {
          "output_type": "display_data",
          "data": {
            "text/html": [
              "<html>\n",
              "<head><meta charset=\"utf-8\" /></head>\n",
              "<body>\n",
              "    <div>            <script src=\"https://cdnjs.cloudflare.com/ajax/libs/mathjax/2.7.5/MathJax.js?config=TeX-AMS-MML_SVG\"></script><script type=\"text/javascript\">if (window.MathJax && window.MathJax.Hub && window.MathJax.Hub.Config) {window.MathJax.Hub.Config({SVG: {font: \"STIX-Web\"}});}</script>                <script type=\"text/javascript\">window.PlotlyConfig = {MathJaxConfig: 'local'};</script>\n",
              "        <script charset=\"utf-8\" src=\"https://cdn.plot.ly/plotly-2.35.2.min.js\"></script>                <div id=\"4d1f6a46-7db0-4aa4-9112-7ea7c3c3ecf4\" class=\"plotly-graph-div\" style=\"height:525px; width:100%;\"></div>            <script type=\"text/javascript\">                                    window.PLOTLYENV=window.PLOTLYENV || {};                                    if (document.getElementById(\"4d1f6a46-7db0-4aa4-9112-7ea7c3c3ecf4\")) {                    Plotly.newPlot(                        \"4d1f6a46-7db0-4aa4-9112-7ea7c3c3ecf4\",                        [{\"cliponaxis\":false,\"hovertemplate\":[\"dropout (FloatDistribution): 0.028596822114548386\\u003cextra\\u003e\\u003c\\u002fextra\\u003e\",\"lr (FloatDistribution): 0.04884067251889321\\u003cextra\\u003e\\u003c\\u002fextra\\u003e\",\"neurons (IntDistribution): 0.08906130625812969\\u003cextra\\u003e\\u003c\\u002fextra\\u003e\",\"num_layers (IntDistribution): 0.8335011991084288\\u003cextra\\u003e\\u003c\\u002fextra\\u003e\"],\"name\":\"Objective Value\",\"orientation\":\"h\",\"text\":[\"0.03\",\"0.05\",\"0.09\",\"0.83\"],\"textposition\":\"outside\",\"x\":[0.028596822114548386,0.04884067251889321,0.08906130625812969,0.8335011991084288],\"y\":[\"dropout\",\"lr\",\"neurons\",\"num_layers\"],\"type\":\"bar\"}],                        {\"title\":{\"text\":\"Hyperparameter Importances\"},\"xaxis\":{\"title\":{\"text\":\"Hyperparameter Importance\"}},\"yaxis\":{\"title\":{\"text\":\"Hyperparameter\"}},\"template\":{\"data\":{\"histogram2dcontour\":[{\"type\":\"histogram2dcontour\",\"colorbar\":{\"outlinewidth\":0,\"ticks\":\"\"},\"colorscale\":[[0.0,\"#0d0887\"],[0.1111111111111111,\"#46039f\"],[0.2222222222222222,\"#7201a8\"],[0.3333333333333333,\"#9c179e\"],[0.4444444444444444,\"#bd3786\"],[0.5555555555555556,\"#d8576b\"],[0.6666666666666666,\"#ed7953\"],[0.7777777777777778,\"#fb9f3a\"],[0.8888888888888888,\"#fdca26\"],[1.0,\"#f0f921\"]]}],\"choropleth\":[{\"type\":\"choropleth\",\"colorbar\":{\"outlinewidth\":0,\"ticks\":\"\"}}],\"histogram2d\":[{\"type\":\"histogram2d\",\"colorbar\":{\"outlinewidth\":0,\"ticks\":\"\"},\"colorscale\":[[0.0,\"#0d0887\"],[0.1111111111111111,\"#46039f\"],[0.2222222222222222,\"#7201a8\"],[0.3333333333333333,\"#9c179e\"],[0.4444444444444444,\"#bd3786\"],[0.5555555555555556,\"#d8576b\"],[0.6666666666666666,\"#ed7953\"],[0.7777777777777778,\"#fb9f3a\"],[0.8888888888888888,\"#fdca26\"],[1.0,\"#f0f921\"]]}],\"heatmap\":[{\"type\":\"heatmap\",\"colorbar\":{\"outlinewidth\":0,\"ticks\":\"\"},\"colorscale\":[[0.0,\"#0d0887\"],[0.1111111111111111,\"#46039f\"],[0.2222222222222222,\"#7201a8\"],[0.3333333333333333,\"#9c179e\"],[0.4444444444444444,\"#bd3786\"],[0.5555555555555556,\"#d8576b\"],[0.6666666666666666,\"#ed7953\"],[0.7777777777777778,\"#fb9f3a\"],[0.8888888888888888,\"#fdca26\"],[1.0,\"#f0f921\"]]}],\"heatmapgl\":[{\"type\":\"heatmapgl\",\"colorbar\":{\"outlinewidth\":0,\"ticks\":\"\"},\"colorscale\":[[0.0,\"#0d0887\"],[0.1111111111111111,\"#46039f\"],[0.2222222222222222,\"#7201a8\"],[0.3333333333333333,\"#9c179e\"],[0.4444444444444444,\"#bd3786\"],[0.5555555555555556,\"#d8576b\"],[0.6666666666666666,\"#ed7953\"],[0.7777777777777778,\"#fb9f3a\"],[0.8888888888888888,\"#fdca26\"],[1.0,\"#f0f921\"]]}],\"contourcarpet\":[{\"type\":\"contourcarpet\",\"colorbar\":{\"outlinewidth\":0,\"ticks\":\"\"}}],\"contour\":[{\"type\":\"contour\",\"colorbar\":{\"outlinewidth\":0,\"ticks\":\"\"},\"colorscale\":[[0.0,\"#0d0887\"],[0.1111111111111111,\"#46039f\"],[0.2222222222222222,\"#7201a8\"],[0.3333333333333333,\"#9c179e\"],[0.4444444444444444,\"#bd3786\"],[0.5555555555555556,\"#d8576b\"],[0.6666666666666666,\"#ed7953\"],[0.7777777777777778,\"#fb9f3a\"],[0.8888888888888888,\"#fdca26\"],[1.0,\"#f0f921\"]]}],\"surface\":[{\"type\":\"surface\",\"colorbar\":{\"outlinewidth\":0,\"ticks\":\"\"},\"colorscale\":[[0.0,\"#0d0887\"],[0.1111111111111111,\"#46039f\"],[0.2222222222222222,\"#7201a8\"],[0.3333333333333333,\"#9c179e\"],[0.4444444444444444,\"#bd3786\"],[0.5555555555555556,\"#d8576b\"],[0.6666666666666666,\"#ed7953\"],[0.7777777777777778,\"#fb9f3a\"],[0.8888888888888888,\"#fdca26\"],[1.0,\"#f0f921\"]]}],\"mesh3d\":[{\"type\":\"mesh3d\",\"colorbar\":{\"outlinewidth\":0,\"ticks\":\"\"}}],\"scatter\":[{\"fillpattern\":{\"fillmode\":\"overlay\",\"size\":10,\"solidity\":0.2},\"type\":\"scatter\"}],\"parcoords\":[{\"type\":\"parcoords\",\"line\":{\"colorbar\":{\"outlinewidth\":0,\"ticks\":\"\"}}}],\"scatterpolargl\":[{\"type\":\"scatterpolargl\",\"marker\":{\"colorbar\":{\"outlinewidth\":0,\"ticks\":\"\"}}}],\"bar\":[{\"error_x\":{\"color\":\"#2a3f5f\"},\"error_y\":{\"color\":\"#2a3f5f\"},\"marker\":{\"line\":{\"color\":\"#E5ECF6\",\"width\":0.5},\"pattern\":{\"fillmode\":\"overlay\",\"size\":10,\"solidity\":0.2}},\"type\":\"bar\"}],\"scattergeo\":[{\"type\":\"scattergeo\",\"marker\":{\"colorbar\":{\"outlinewidth\":0,\"ticks\":\"\"}}}],\"scatterpolar\":[{\"type\":\"scatterpolar\",\"marker\":{\"colorbar\":{\"outlinewidth\":0,\"ticks\":\"\"}}}],\"histogram\":[{\"marker\":{\"pattern\":{\"fillmode\":\"overlay\",\"size\":10,\"solidity\":0.2}},\"type\":\"histogram\"}],\"scattergl\":[{\"type\":\"scattergl\",\"marker\":{\"colorbar\":{\"outlinewidth\":0,\"ticks\":\"\"}}}],\"scatter3d\":[{\"type\":\"scatter3d\",\"line\":{\"colorbar\":{\"outlinewidth\":0,\"ticks\":\"\"}},\"marker\":{\"colorbar\":{\"outlinewidth\":0,\"ticks\":\"\"}}}],\"scattermapbox\":[{\"type\":\"scattermapbox\",\"marker\":{\"colorbar\":{\"outlinewidth\":0,\"ticks\":\"\"}}}],\"scatterternary\":[{\"type\":\"scatterternary\",\"marker\":{\"colorbar\":{\"outlinewidth\":0,\"ticks\":\"\"}}}],\"scattercarpet\":[{\"type\":\"scattercarpet\",\"marker\":{\"colorbar\":{\"outlinewidth\":0,\"ticks\":\"\"}}}],\"carpet\":[{\"aaxis\":{\"endlinecolor\":\"#2a3f5f\",\"gridcolor\":\"white\",\"linecolor\":\"white\",\"minorgridcolor\":\"white\",\"startlinecolor\":\"#2a3f5f\"},\"baxis\":{\"endlinecolor\":\"#2a3f5f\",\"gridcolor\":\"white\",\"linecolor\":\"white\",\"minorgridcolor\":\"white\",\"startlinecolor\":\"#2a3f5f\"},\"type\":\"carpet\"}],\"table\":[{\"cells\":{\"fill\":{\"color\":\"#EBF0F8\"},\"line\":{\"color\":\"white\"}},\"header\":{\"fill\":{\"color\":\"#C8D4E3\"},\"line\":{\"color\":\"white\"}},\"type\":\"table\"}],\"barpolar\":[{\"marker\":{\"line\":{\"color\":\"#E5ECF6\",\"width\":0.5},\"pattern\":{\"fillmode\":\"overlay\",\"size\":10,\"solidity\":0.2}},\"type\":\"barpolar\"}],\"pie\":[{\"automargin\":true,\"type\":\"pie\"}]},\"layout\":{\"autotypenumbers\":\"strict\",\"colorway\":[\"#636efa\",\"#EF553B\",\"#00cc96\",\"#ab63fa\",\"#FFA15A\",\"#19d3f3\",\"#FF6692\",\"#B6E880\",\"#FF97FF\",\"#FECB52\"],\"font\":{\"color\":\"#2a3f5f\"},\"hovermode\":\"closest\",\"hoverlabel\":{\"align\":\"left\"},\"paper_bgcolor\":\"white\",\"plot_bgcolor\":\"#E5ECF6\",\"polar\":{\"bgcolor\":\"#E5ECF6\",\"angularaxis\":{\"gridcolor\":\"white\",\"linecolor\":\"white\",\"ticks\":\"\"},\"radialaxis\":{\"gridcolor\":\"white\",\"linecolor\":\"white\",\"ticks\":\"\"}},\"ternary\":{\"bgcolor\":\"#E5ECF6\",\"aaxis\":{\"gridcolor\":\"white\",\"linecolor\":\"white\",\"ticks\":\"\"},\"baxis\":{\"gridcolor\":\"white\",\"linecolor\":\"white\",\"ticks\":\"\"},\"caxis\":{\"gridcolor\":\"white\",\"linecolor\":\"white\",\"ticks\":\"\"}},\"coloraxis\":{\"colorbar\":{\"outlinewidth\":0,\"ticks\":\"\"}},\"colorscale\":{\"sequential\":[[0.0,\"#0d0887\"],[0.1111111111111111,\"#46039f\"],[0.2222222222222222,\"#7201a8\"],[0.3333333333333333,\"#9c179e\"],[0.4444444444444444,\"#bd3786\"],[0.5555555555555556,\"#d8576b\"],[0.6666666666666666,\"#ed7953\"],[0.7777777777777778,\"#fb9f3a\"],[0.8888888888888888,\"#fdca26\"],[1.0,\"#f0f921\"]],\"sequentialminus\":[[0.0,\"#0d0887\"],[0.1111111111111111,\"#46039f\"],[0.2222222222222222,\"#7201a8\"],[0.3333333333333333,\"#9c179e\"],[0.4444444444444444,\"#bd3786\"],[0.5555555555555556,\"#d8576b\"],[0.6666666666666666,\"#ed7953\"],[0.7777777777777778,\"#fb9f3a\"],[0.8888888888888888,\"#fdca26\"],[1.0,\"#f0f921\"]],\"diverging\":[[0,\"#8e0152\"],[0.1,\"#c51b7d\"],[0.2,\"#de77ae\"],[0.3,\"#f1b6da\"],[0.4,\"#fde0ef\"],[0.5,\"#f7f7f7\"],[0.6,\"#e6f5d0\"],[0.7,\"#b8e186\"],[0.8,\"#7fbc41\"],[0.9,\"#4d9221\"],[1,\"#276419\"]]},\"xaxis\":{\"gridcolor\":\"white\",\"linecolor\":\"white\",\"ticks\":\"\",\"title\":{\"standoff\":15},\"zerolinecolor\":\"white\",\"automargin\":true,\"zerolinewidth\":2},\"yaxis\":{\"gridcolor\":\"white\",\"linecolor\":\"white\",\"ticks\":\"\",\"title\":{\"standoff\":15},\"zerolinecolor\":\"white\",\"automargin\":true,\"zerolinewidth\":2},\"scene\":{\"xaxis\":{\"backgroundcolor\":\"#E5ECF6\",\"gridcolor\":\"white\",\"linecolor\":\"white\",\"showbackground\":true,\"ticks\":\"\",\"zerolinecolor\":\"white\",\"gridwidth\":2},\"yaxis\":{\"backgroundcolor\":\"#E5ECF6\",\"gridcolor\":\"white\",\"linecolor\":\"white\",\"showbackground\":true,\"ticks\":\"\",\"zerolinecolor\":\"white\",\"gridwidth\":2},\"zaxis\":{\"backgroundcolor\":\"#E5ECF6\",\"gridcolor\":\"white\",\"linecolor\":\"white\",\"showbackground\":true,\"ticks\":\"\",\"zerolinecolor\":\"white\",\"gridwidth\":2}},\"shapedefaults\":{\"line\":{\"color\":\"#2a3f5f\"}},\"annotationdefaults\":{\"arrowcolor\":\"#2a3f5f\",\"arrowhead\":0,\"arrowwidth\":1},\"geo\":{\"bgcolor\":\"white\",\"landcolor\":\"#E5ECF6\",\"subunitcolor\":\"white\",\"showland\":true,\"showlakes\":true,\"lakecolor\":\"white\"},\"title\":{\"x\":0.05},\"mapbox\":{\"style\":\"light\"}}}},                        {\"responsive\": true}                    ).then(function(){\n",
              "                            \n",
              "var gd = document.getElementById('4d1f6a46-7db0-4aa4-9112-7ea7c3c3ecf4');\n",
              "var x = new MutationObserver(function (mutations, observer) {{\n",
              "        var display = window.getComputedStyle(gd).display;\n",
              "        if (!display || display === 'none') {{\n",
              "            console.log([gd, 'removed!']);\n",
              "            Plotly.purge(gd);\n",
              "            observer.disconnect();\n",
              "        }}\n",
              "}});\n",
              "\n",
              "// Listen for the removal of the full notebook cells\n",
              "var notebookContainer = gd.closest('#notebook-container');\n",
              "if (notebookContainer) {{\n",
              "    x.observe(notebookContainer, {childList: true});\n",
              "}}\n",
              "\n",
              "// Listen for the clearing of the current output cell\n",
              "var outputEl = gd.closest('.output');\n",
              "if (outputEl) {{\n",
              "    x.observe(outputEl, {childList: true});\n",
              "}}\n",
              "\n",
              "                        })                };                            </script>        </div>\n",
              "</body>\n",
              "</html>"
            ]
          },
          "metadata": {}
        }
      ]
    },
    {
      "cell_type": "markdown",
      "source": [
        "# Treinando novamente o modelo, utilizando os melhores parâmetros encontrados para testar os resultados"
      ],
      "metadata": {
        "id": "BbqDbRIY3M_i"
      }
    },
    {
      "cell_type": "code",
      "source": [
        "# Fixar seed novamente para reprodutibilidade:\n",
        "set_seed(42)\n",
        "\n",
        "# Criar o modelo com os melhores parâmetros\n",
        "best_model = GNN(\n",
        "    activation=torch.nn.LeakyReLU(),\n",
        "    neurons= study.best_params[\"neurons\"],\n",
        "    dropout= study.best_params[\"dropout\"],\n",
        "    num_layers= study.best_params[\"num_layers\"]\n",
        ")\n",
        "\n",
        "optimizer = torch.optim.Adam(best_model.parameters(), lr=study.best_params[\"lr\"])\n",
        "criterion = torch.nn.CrossEntropyLoss()\n",
        "\n",
        "# Treinamento completo:\n",
        "best_model.train()\n",
        "for epoch in range(300):\n",
        "    optimizer.zero_grad()\n",
        "    out = best_model(graph_train)\n",
        "\n",
        "    target = graph_train.y\n",
        "    if target.dim() > 1:\n",
        "        target = torch.argmax(target, dim=1)\n",
        "\n",
        "    loss = criterion(out, target)\n",
        "    loss.backward()\n",
        "    optimizer.step()\n"
      ],
      "metadata": {
        "id": "Wps6w7933LV8"
      },
      "execution_count": 33,
      "outputs": []
    },
    {
      "cell_type": "code",
      "source": [
        "# Avaliação no grafo final de teste:\n",
        "best_model.eval()\n",
        "\n",
        "with torch.no_grad():\n",
        "    out = best_model(graph_test)\n",
        "    pred = torch.argmax(out, dim=1)\n",
        "\n",
        "    true_labels = graph_test.y\n",
        "    if true_labels.dim() > 1:\n",
        "        true_labels = torch.argmax(true_labels, dim=1)\n",
        "\n",
        "    accuracy = accuracy_score(true_labels.cpu().numpy(), pred.cpu().numpy())\n",
        "    print(f\"Acurácia no grafo de teste final: {accuracy:.4f}\")\n"
      ],
      "metadata": {
        "colab": {
          "base_uri": "https://localhost:8080/"
        },
        "id": "5Vyq2q4M4E0r",
        "outputId": "7c2c9a8e-a280-4690-fdff-0a9b88c1460f"
      },
      "execution_count": 34,
      "outputs": [
        {
          "output_type": "stream",
          "name": "stdout",
          "text": [
            "Acurácia no grafo de teste final: 0.7256\n"
          ]
        }
      ]
    },
    {
      "cell_type": "code",
      "source": [
        "from sklearn.metrics import confusion_matrix, ConfusionMatrixDisplay, classification_report\n",
        "import matplotlib.pyplot as plt\n",
        "import seaborn as sns\n",
        "import numpy as np"
      ],
      "metadata": {
        "id": "Z3fr-9kl40aG"
      },
      "execution_count": 35,
      "outputs": []
    },
    {
      "cell_type": "code",
      "source": [
        "best_model.eval()\n",
        "with torch.no_grad():\n",
        "    out = best_model(graph_test)\n",
        "    y_pred = torch.argmax(out, dim=1).cpu().numpy()\n",
        "    y_true = graph_test.y.cpu().numpy()\n",
        "    if y_true.ndim > 1:\n",
        "        y_true = np.argmax(y_true, axis=1)\n"
      ],
      "metadata": {
        "id": "t8TPTeYv5FEY"
      },
      "execution_count": 36,
      "outputs": []
    },
    {
      "cell_type": "code",
      "source": [
        "cm = confusion_matrix(y_true, y_pred)\n",
        "plt.figure(figsize=(8, 6))\n",
        "sns.heatmap(cm, annot=True, fmt='d', cmap='Blues', xticklabels=range(7), yticklabels=range(7))\n",
        "plt.xlabel('Predicted')\n",
        "plt.ylabel('True')\n",
        "plt.title('Confusion Matrix')\n",
        "plt.show()\n"
      ],
      "metadata": {
        "colab": {
          "base_uri": "https://localhost:8080/",
          "height": 585
        },
        "id": "Ts_9h4Ix41Pb",
        "outputId": "5cc57981-3c99-49f2-dff6-04de6ca8a2dd"
      },
      "execution_count": 37,
      "outputs": [
        {
          "output_type": "display_data",
          "data": {
            "text/plain": [
              "<Figure size 800x600 with 2 Axes>"
            ],
            "image/png": "[encoded data removed]"
          },
          "metadata": {}
        }
      ]
    },
    {
      "cell_type": "code",
      "source": [
        "print(classification_report(y_true, y_pred, digits=3))"
      ],
      "metadata": {
        "colab": {
          "base_uri": "https://localhost:8080/"
        },
        "id": "xRnk1K6t5l-5",
        "outputId": "f31cc80d-d630-4bfb-fff7-3f486289da7e"
      },
      "execution_count": 38,
      "outputs": [
        {
          "output_type": "stream",
          "name": "stdout",
          "text": [
            "              precision    recall  f1-score   support\n",
            "\n",
            "           0      0.841     0.902     0.871        41\n",
            "           1      0.462     0.698     0.556        43\n",
            "           2      0.680     0.642     0.660        53\n",
            "           3      0.889     0.889     0.889        45\n",
            "           4      1.000     1.000     1.000        49\n",
            "           5      1.000     0.256     0.407        43\n",
            "           6      0.547     0.674     0.604        43\n",
            "\n",
            "    accuracy                          0.726       317\n",
            "   macro avg      0.774     0.723     0.712       317\n",
            "weighted avg      0.776     0.726     0.716       317\n",
            "\n"
          ]
        }
      ]
    }
  ]
}