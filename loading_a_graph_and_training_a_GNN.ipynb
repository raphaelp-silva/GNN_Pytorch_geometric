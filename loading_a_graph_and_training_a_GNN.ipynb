{
  "nbformat": 4,
  "nbformat_minor": 0,
  "metadata": {
    "colab": {
      "provenance": [],
      "authorship_tag": "ABX9TyNBdkqJX2vAPLcOWYveT0wC",
      "include_colab_link": true
    },
    "kernelspec": {
      "name": "python3",
      "display_name": "Python 3"
    },
    "language_info": {
      "name": "python"
    }
  },
  "cells": [
    {
      "cell_type": "markdown",
      "metadata": {
        "id": "view-in-github",
        "colab_type": "text"
      },
      "source": [
        "<a href=\"https://colab.research.google.com/github/raphaelp-silva/GNN_Pytorch_geometric/blob/main/loading_a_graph_and_training_a_GNN.ipynb\" target=\"_parent\"><img src=\"https://colab.research.google.com/assets/colab-badge.svg\" alt=\"Open In Colab\"/></a>"
      ]
    },
    {
      "cell_type": "code",
      "source": [
        "import pandas as pd\n",
        "import numpy as np\n",
        "import torch"
      ],
      "metadata": {
        "id": "jyFTAmIbhIhg"
      },
      "execution_count": 1,
      "outputs": []
    },
    {
      "cell_type": "code",
      "execution_count": 2,
      "metadata": {
        "colab": {
          "base_uri": "https://localhost:8080/"
        },
        "id": "0iVsewAXhAZR",
        "outputId": "bd3acb1a-32ab-44d2-f020-34e805b1d506"
      },
      "outputs": [
        {
          "output_type": "stream",
          "name": "stdout",
          "text": [
            "tensor([[-1.2729, -0.6167, -0.8956,  ..., -0.5086, -0.2425, -0.4357],\n",
            "        [-1.2729, -0.6167, -1.9360,  ..., -0.5086, -0.2425, -0.4357],\n",
            "        [ 0.7856, -0.3259,  0.9770,  ..., -0.5086, -0.2425, -0.4357],\n",
            "        ...,\n",
            "        [-1.2729, -0.6167,  0.4568,  ...,  1.9663, -0.2425, -0.4357],\n",
            "        [-1.2729, -0.6167,  1.0810,  ...,  1.9663, -0.2425, -0.4357],\n",
            "        [-1.2729, -0.6167,  1.0810,  ...,  1.9663, -0.2425, -0.4357]])\n",
            "tensor([[   0,    0,    0,  ..., 1566, 1566, 1566],\n",
            "        [ 357,   57,  157,  ..., 1544, 1539, 1540]])\n"
          ]
        }
      ],
      "source": [
        "# Carregando o grafo salvo:\n",
        "graph = torch.load('/content/obesity_graph_data.pt', weights_only=False)\n",
        "\n",
        "# Acessando as variáveis do grafo carregado:\n",
        "print(graph.x)  # Features dos nós\n",
        "print(graph.edge_index)  # Arestas do grafo"
      ]
    }
  ]
}