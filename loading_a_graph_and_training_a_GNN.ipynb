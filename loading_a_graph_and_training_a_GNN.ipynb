{
  "nbformat": 4,
  "nbformat_minor": 0,
  "metadata": {
    "colab": {
      "provenance": [],
      "authorship_tag": "ABX9TyNY+L7OwnoKLGF0RDZ0Sc+E",
      "include_colab_link": true
    },
    "kernelspec": {
      "name": "python3",
      "display_name": "Python 3"
    },
    "language_info": {
      "name": "python"
    }
  },
  "cells": [
    {
      "cell_type": "markdown",
      "metadata": {
        "id": "view-in-github",
        "colab_type": "text"
      },
      "source": [
        "<a href=\"https://colab.research.google.com/github/raphaelp-silva/GNN_Pytorch_geometric/blob/main/loading_a_graph_and_training_a_GNN.ipynb\" target=\"_parent\"><img src=\"https://colab.research.google.com/assets/colab-badge.svg\" alt=\"Open In Colab\"/></a>"
      ]
    },
    {
      "cell_type": "code",
      "source": [
        "!pip install torch-geometric"
      ],
      "metadata": {
        "id": "JSMPeAxtrgdG",
        "outputId": "bdc8ec00-b0f7-4cf2-ed53-0309ae276b4c",
        "colab": {
          "base_uri": "https://localhost:8080/"
        }
      },
      "execution_count": 6,
      "outputs": [
        {
          "output_type": "stream",
          "name": "stdout",
          "text": [
            "Collecting torch-geometric\n",
            "  Downloading torch_geometric-2.6.1-py3-none-any.whl.metadata (63 kB)\n",
            "\u001b[?25l     \u001b[90m━━━━━━━━━━━━━━━━━━━━━━━━━━━━━━━━━━━━━━━━\u001b[0m \u001b[32m0.0/63.1 kB\u001b[0m \u001b[31m?\u001b[0m eta \u001b[36m-:--:--\u001b[0m\r\u001b[2K     \u001b[90m━━━━━━━━━━━━━━━━━━━━━━━━━━━━━━━━━━━━━━━━\u001b[0m \u001b[32m63.1/63.1 kB\u001b[0m \u001b[31m3.7 MB/s\u001b[0m eta \u001b[36m0:00:00\u001b[0m\n",
            "\u001b[?25hRequirement already satisfied: aiohttp in /usr/local/lib/python3.11/dist-packages (from torch-geometric) (3.11.13)\n",
            "Requirement already satisfied: fsspec in /usr/local/lib/python3.11/dist-packages (from torch-geometric) (2024.10.0)\n",
            "Requirement already satisfied: jinja2 in /usr/local/lib/python3.11/dist-packages (from torch-geometric) (3.1.6)\n",
            "Requirement already satisfied: numpy in /usr/local/lib/python3.11/dist-packages (from torch-geometric) (2.0.2)\n",
            "Requirement already satisfied: psutil>=5.8.0 in /usr/local/lib/python3.11/dist-packages (from torch-geometric) (5.9.5)\n",
            "Requirement already satisfied: pyparsing in /usr/local/lib/python3.11/dist-packages (from torch-geometric) (3.2.1)\n",
            "Requirement already satisfied: requests in /usr/local/lib/python3.11/dist-packages (from torch-geometric) (2.32.3)\n",
            "Requirement already satisfied: tqdm in /usr/local/lib/python3.11/dist-packages (from torch-geometric) (4.67.1)\n",
            "Requirement already satisfied: aiohappyeyeballs>=2.3.0 in /usr/local/lib/python3.11/dist-packages (from aiohttp->torch-geometric) (2.6.1)\n",
            "Requirement already satisfied: aiosignal>=1.1.2 in /usr/local/lib/python3.11/dist-packages (from aiohttp->torch-geometric) (1.3.2)\n",
            "Requirement already satisfied: attrs>=17.3.0 in /usr/local/lib/python3.11/dist-packages (from aiohttp->torch-geometric) (25.3.0)\n",
            "Requirement already satisfied: frozenlist>=1.1.1 in /usr/local/lib/python3.11/dist-packages (from aiohttp->torch-geometric) (1.5.0)\n",
            "Requirement already satisfied: multidict<7.0,>=4.5 in /usr/local/lib/python3.11/dist-packages (from aiohttp->torch-geometric) (6.1.0)\n",
            "Requirement already satisfied: propcache>=0.2.0 in /usr/local/lib/python3.11/dist-packages (from aiohttp->torch-geometric) (0.3.0)\n",
            "Requirement already satisfied: yarl<2.0,>=1.17.0 in /usr/local/lib/python3.11/dist-packages (from aiohttp->torch-geometric) (1.18.3)\n",
            "Requirement already satisfied: MarkupSafe>=2.0 in /usr/local/lib/python3.11/dist-packages (from jinja2->torch-geometric) (3.0.2)\n",
            "Requirement already satisfied: charset-normalizer<4,>=2 in /usr/local/lib/python3.11/dist-packages (from requests->torch-geometric) (3.4.1)\n",
            "Requirement already satisfied: idna<4,>=2.5 in /usr/local/lib/python3.11/dist-packages (from requests->torch-geometric) (3.10)\n",
            "Requirement already satisfied: urllib3<3,>=1.21.1 in /usr/local/lib/python3.11/dist-packages (from requests->torch-geometric) (2.3.0)\n",
            "Requirement already satisfied: certifi>=2017.4.17 in /usr/local/lib/python3.11/dist-packages (from requests->torch-geometric) (2025.1.31)\n",
            "Downloading torch_geometric-2.6.1-py3-none-any.whl (1.1 MB)\n",
            "\u001b[2K   \u001b[90m━━━━━━━━━━━━━━━━━━━━━━━━━━━━━━━━━━━━━━━━\u001b[0m \u001b[32m1.1/1.1 MB\u001b[0m \u001b[31m31.3 MB/s\u001b[0m eta \u001b[36m0:00:00\u001b[0m\n",
            "\u001b[?25hInstalling collected packages: torch-geometric\n",
            "Successfully installed torch-geometric-2.6.1\n"
          ]
        }
      ]
    },
    {
      "cell_type": "code",
      "source": [
        "import pandas as pd\n",
        "import numpy as np\n",
        "import torch\n",
        "from torch_geometric.data import Data\n",
        "import torch.nn.functional as F\n",
        "from torch_geometric.nn import GCNConv\n",
        "import torch.nn as nn"
      ],
      "metadata": {
        "id": "jyFTAmIbhIhg"
      },
      "execution_count": 19,
      "outputs": []
    },
    {
      "cell_type": "code",
      "execution_count": 13,
      "metadata": {
        "colab": {
          "base_uri": "https://localhost:8080/"
        },
        "id": "0iVsewAXhAZR",
        "outputId": "bc030b66-eda5-4e97-debb-27a444e9cec2"
      },
      "outputs": [
        {
          "output_type": "stream",
          "name": "stdout",
          "text": [
            "tensor([[-1.2729, -0.6167, -0.8956,  ..., -0.0841,  0.6002, -0.1758],\n",
            "        [-1.2729, -0.6167, -1.9360,  ..., -0.0841,  0.6002, -0.1758],\n",
            "        [ 0.7856, -0.3259,  0.9770,  ..., -0.0841,  0.6002, -0.1758],\n",
            "        ...,\n",
            "        [-1.2729, -0.6167,  0.4568,  ..., -0.0841,  0.6002, -0.1758],\n",
            "        [-1.2729, -0.6167,  1.0810,  ..., -0.0841,  0.6002, -0.1758],\n",
            "        [-1.2729, -0.6167,  1.0810,  ..., -0.0841,  0.6002, -0.1758]])\n",
            "tensor([[   0,    0,    0,  ..., 1566, 1566, 1566],\n",
            "        [ 859,  721,   45,  ..., 1549, 1541, 1563]])\n",
            "tensor([[1., 0., 0., 0., 0., 0.],\n",
            "        [1., 0., 0., 0., 0., 0.],\n",
            "        [1., 0., 0., 0., 0., 0.],\n",
            "        ...,\n",
            "        [0., 0., 0., 1., 0., 0.],\n",
            "        [0., 0., 0., 1., 0., 0.],\n",
            "        [0., 0., 0., 1., 0., 0.]])\n"
          ]
        }
      ],
      "source": [
        "# Carregando o grafo salvo:\n",
        "graph = torch.load('/content/obesity_graph_data-3.pt', weights_only=False)\n",
        "\n",
        "# Acessando as variáveis do grafo carregado:\n",
        "print(graph.x)  # Features dos nós\n",
        "print(graph.edge_index)  # Arestas do grafo\n",
        "print(graph.y)"
      ]
    },
    {
      "cell_type": "code",
      "source": [
        "graph = Data(x = graph.x, edge_index=graph.edge_index, y=graph.y)\n",
        "print(graph)"
      ],
      "metadata": {
        "id": "FEqIUtxSULXj",
        "outputId": "5db8e74a-a68f-41f6-911b-98d2c2e46ad2",
        "colab": {
          "base_uri": "https://localhost:8080/"
        }
      },
      "execution_count": 20,
      "outputs": [
        {
          "output_type": "stream",
          "name": "stdout",
          "text": [
            "Data(x=[1567, 26], edge_index=[2, 23505], y=[1567, 6])\n"
          ]
        }
      ]
    },
    {
      "cell_type": "code",
      "source": [
        "class GNN(torch.nn.Module):\n",
        "  def __init__(self):\n",
        "\n",
        "    super(GNN, self).__init__()\n",
        "\n",
        "    self.conv1 = GCNConv(26, 128)\n",
        "    self.conv2 = GCNConv(128, 64)\n",
        "    self.conv3 = GCNConv(64, 32)\n",
        "    self.fc = nn.Linear(32, 6)\n",
        "\n",
        "  def forward(self, data):\n",
        "    x = data.x\n",
        "    edge_index = data.edge_index\n",
        "\n",
        "    x = torch.relu(self.conv1(x, edge_index))\n",
        "    x = torch.relu(self.conv2(x, edge_index))\n",
        "    x = torch.relu(self.conv3(x, edge_index))\n",
        "    x = self.fc(x)\n",
        "\n",
        "    return torch.softmax(x, dim=1)"
      ],
      "metadata": {
        "id": "JHH2p7GhUmUO"
      },
      "execution_count": 31,
      "outputs": []
    },
    {
      "cell_type": "code",
      "source": [
        "device = torch.device('cuda' if torch.cuda.is_available() else 'cpu')\n",
        "model = GNN().to(device)\n",
        "data = graph.to(device)\n",
        "optimizer = torch.optim.Adam(model.parameters(), lr=0.01, weight_decay=5e-4)\n",
        "criterion = torch.nn.CrossEntropyLoss()\n",
        "\n",
        "for epoch in range(500):\n",
        "  optimizer.zero_grad()\n",
        "  out = model(data)\n",
        "  loss = criterion(out, data.y)\n",
        "  loss.backward()\n",
        "  optimizer.step()\n",
        "\n",
        "  if epoch % 10 == 0:\n",
        "    print(f'Epoch: {epoch}, Loss: {loss.item():.4f}')\n"
      ],
      "metadata": {
        "id": "Xuz13lVmYYTk",
        "outputId": "cd0baca7-1cfc-4ce6-cc9a-33f078c87045",
        "colab": {
          "base_uri": "https://localhost:8080/"
        }
      },
      "execution_count": 33,
      "outputs": [
        {
          "output_type": "stream",
          "name": "stdout",
          "text": [
            "Epoch: 0, Loss: 1.7919\n",
            "Epoch: 10, Loss: 1.4850\n",
            "Epoch: 20, Loss: 1.4314\n",
            "Epoch: 30, Loss: 1.4115\n",
            "Epoch: 40, Loss: 1.3987\n",
            "Epoch: 50, Loss: 1.3835\n",
            "Epoch: 60, Loss: 1.3668\n",
            "Epoch: 70, Loss: 1.3574\n",
            "Epoch: 80, Loss: 1.3514\n",
            "Epoch: 90, Loss: 1.3437\n",
            "Epoch: 100, Loss: 1.3441\n",
            "Epoch: 110, Loss: 1.3392\n",
            "Epoch: 120, Loss: 1.3392\n",
            "Epoch: 130, Loss: 1.3333\n",
            "Epoch: 140, Loss: 1.3309\n",
            "Epoch: 150, Loss: 1.3352\n",
            "Epoch: 160, Loss: 1.3314\n",
            "Epoch: 170, Loss: 1.3296\n",
            "Epoch: 180, Loss: 1.3329\n",
            "Epoch: 190, Loss: 1.3284\n",
            "Epoch: 200, Loss: 1.3358\n",
            "Epoch: 210, Loss: 1.3260\n",
            "Epoch: 220, Loss: 1.3287\n",
            "Epoch: 230, Loss: 1.3285\n",
            "Epoch: 240, Loss: 1.3217\n",
            "Epoch: 250, Loss: 1.3273\n",
            "Epoch: 260, Loss: 1.3309\n",
            "Epoch: 270, Loss: 1.3201\n",
            "Epoch: 280, Loss: 1.3177\n",
            "Epoch: 290, Loss: 1.3200\n",
            "Epoch: 300, Loss: 1.3191\n",
            "Epoch: 310, Loss: 1.3208\n",
            "Epoch: 320, Loss: 1.3165\n",
            "Epoch: 330, Loss: 1.3201\n",
            "Epoch: 340, Loss: 1.3160\n",
            "Epoch: 350, Loss: 1.3134\n",
            "Epoch: 360, Loss: 1.3166\n",
            "Epoch: 370, Loss: 1.3139\n",
            "Epoch: 380, Loss: 1.3142\n",
            "Epoch: 390, Loss: 1.3175\n",
            "Epoch: 400, Loss: 1.3100\n",
            "Epoch: 410, Loss: 1.3115\n",
            "Epoch: 420, Loss: 1.3163\n",
            "Epoch: 430, Loss: 1.3094\n",
            "Epoch: 440, Loss: 1.3094\n",
            "Epoch: 450, Loss: 1.3135\n",
            "Epoch: 460, Loss: 1.3119\n",
            "Epoch: 470, Loss: 1.3122\n",
            "Epoch: 480, Loss: 1.3098\n",
            "Epoch: 490, Loss: 1.3100\n"
          ]
        }
      ]
    }
  ]
}